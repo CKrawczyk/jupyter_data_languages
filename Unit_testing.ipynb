{
 "cells": [
  {
   "cell_type": "markdown",
   "metadata": {},
   "source": [
    "# Unit testing\n",
    "\n",
    "Unit testing is a method for testing code to make sure a set of test cases work as expected.  Tests can also be used to help track and plan the functionality of your code.  \n",
    "\n",
    "## Example: Calculate the distance between two angles (in degrees)\n",
    "\n",
    "Let's start by writing a simple version of our function:"
   ]
  },
  {
   "cell_type": "code",
   "execution_count": null,
   "metadata": {},
   "outputs": [],
   "source": [
    "def angle_distance(a, b):\n",
    "    return abs(b - a)"
   ]
  },
  {
   "cell_type": "markdown",
   "metadata": {},
   "source": [
    "### Writing our first test\n",
    "\n",
    "Now we will write a test to see if this works as expected.  For this example the test is in the same file as the original code, but in a real case the test should be contained in its own file or folder.  As long as the filename has the word `test` in it calling the command `nosetests` will automatically find and run the file."
   ]
  },
  {
   "cell_type": "code",
   "execution_count": null,
   "metadata": {},
   "outputs": [],
   "source": [
    "import unittest\n",
    "\n",
    "class TestAngle(unittest.TestCase):\n",
    "    def test_small_angles(self):\n",
    "        '''Test distance between small angles'''\n",
    "        a = 10\n",
    "        b = 90\n",
    "        expected = 80\n",
    "        result = angle_distance(a, b)\n",
    "        self.assertEqual(result, expected)"
   ]
  },
  {
   "cell_type": "markdown",
   "metadata": {},
   "source": [
    "### Running the test\n",
    "\n",
    "To run the test inside the notebook we can use this block, typically this would be run from the console with the command `nosetests`."
   ]
  },
  {
   "cell_type": "code",
   "execution_count": null,
   "metadata": {},
   "outputs": [],
   "source": [
    "unittest.main(argv=['first-arg-is-ignored'], exit=False);"
   ]
  },
  {
   "cell_type": "markdown",
   "metadata": {},
   "source": [
    "### Add test for edge case 1\n",
    "\n",
    "We can see that our test has worked as expected, but we have only tested one case, we need to also test some edge cases."
   ]
  },
  {
   "cell_type": "code",
   "execution_count": null,
   "metadata": {},
   "outputs": [],
   "source": [
    "class TestAngle(unittest.TestCase):\n",
    "    def test_small_angles(self):\n",
    "        '''Test distance between small angles'''\n",
    "        a = 10\n",
    "        b = 90\n",
    "        expected = 80\n",
    "        result = angle_distance(a, b)\n",
    "        self.assertEqual(result, expected)\n",
    "    \n",
    "    def test_large_angles(self):\n",
    "        '''Test distance between large angles'''\n",
    "        a = 0\n",
    "        b = 270\n",
    "        expected = 90\n",
    "        result = angle_distance(a, b)\n",
    "        self.assertEqual(result, expected)"
   ]
  },
  {
   "cell_type": "code",
   "execution_count": null,
   "metadata": {},
   "outputs": [],
   "source": [
    "unittest.main(argv=['first-arg-is-ignored'], exit=False);"
   ]
  },
  {
   "cell_type": "markdown",
   "metadata": {},
   "source": [
    "### Fix the first bug\n",
    "\n",
    "This test has failed, we have found a bug in our code!  We have not accounted for the angle wrapping around, the largest distance two angles can be is `180` before they start getting closer again.  Let's update our function:"
   ]
  },
  {
   "cell_type": "code",
   "execution_count": null,
   "metadata": {},
   "outputs": [],
   "source": [
    "def angle_distance(a, b):\n",
    "    return abs(b - a) % 180"
   ]
  },
  {
   "cell_type": "code",
   "execution_count": null,
   "metadata": {},
   "outputs": [],
   "source": [
    "unittest.main(argv=['first-arg-is-ignored'], exit=False);"
   ]
  },
  {
   "cell_type": "markdown",
   "metadata": {},
   "source": [
    "### Add test for edge case 2\n",
    "\n",
    "The code should be able to handle distances between angles on either side of the branch cut."
   ]
  },
  {
   "cell_type": "code",
   "execution_count": null,
   "metadata": {},
   "outputs": [],
   "source": [
    "class TestAngle(unittest.TestCase):\n",
    "    def test_small_angles(self):\n",
    "        '''Test distance between small angles'''\n",
    "        a = 10\n",
    "        b = 90\n",
    "        expected = 80\n",
    "        result = angle_distance(a, b)\n",
    "        self.assertEqual(result, expected)\n",
    "    \n",
    "    def test_large_angles(self):\n",
    "        '''Test distance between large angles'''\n",
    "        a = 0\n",
    "        b = 270\n",
    "        expected = 90\n",
    "        result = angle_distance(a, b)\n",
    "        self.assertEqual(result, expected)\n",
    "    \n",
    "    def test_wrapping_angles(self):\n",
    "        '''Test distance around wrapping angle'''\n",
    "        a = 1\n",
    "        b = 359\n",
    "        expected = 2\n",
    "        result = angle_distance(a, b)\n",
    "        self.assertEqual(result, expected)"
   ]
  },
  {
   "cell_type": "code",
   "execution_count": null,
   "metadata": {},
   "outputs": [],
   "source": [
    "unittest.main(argv=['first-arg-is-ignored'], exit=False);"
   ]
  },
  {
   "cell_type": "markdown",
   "metadata": {},
   "source": [
    "### Fix the second bug\n",
    "\n",
    "Looks like we have found another breaking point in our code.  We will update it again:"
   ]
  },
  {
   "cell_type": "code",
   "execution_count": null,
   "metadata": {},
   "outputs": [],
   "source": [
    "def angle_distance(a, b):\n",
    "    d = abs(b - a)\n",
    "    return min(360 - d, d)"
   ]
  },
  {
   "cell_type": "code",
   "execution_count": null,
   "metadata": {},
   "outputs": [],
   "source": [
    "unittest.main(argv=['first-arg-is-ignored'], exit=False);"
   ]
  },
  {
   "cell_type": "markdown",
   "metadata": {},
   "source": [
    "### Add test for edge case 3\n",
    "\n",
    "What about the case where the original angles are larger than `360`?  We will write another test:"
   ]
  },
  {
   "cell_type": "code",
   "execution_count": null,
   "metadata": {},
   "outputs": [],
   "source": [
    "class TestAngle(unittest.TestCase):\n",
    "    def test_small_angles(self):\n",
    "        '''Test distance between small angles'''\n",
    "        a = 10\n",
    "        b = 90\n",
    "        expected = 80\n",
    "        result = angle_distance(a, b)\n",
    "        self.assertEqual(result, expected)\n",
    "    \n",
    "    def test_large_angles(self):\n",
    "        '''Test distance between large angles'''\n",
    "        a = 0\n",
    "        b = 270\n",
    "        expected = 90\n",
    "        result = angle_distance(a, b)\n",
    "        self.assertEqual(result, expected)\n",
    "    \n",
    "    def test_wrapping_angles(self):\n",
    "        '''Test distance around wrapping angle'''\n",
    "        a = 1\n",
    "        b = 359\n",
    "        expected = 2\n",
    "        result = angle_distance(a, b)\n",
    "        self.assertEqual(result, expected)\n",
    "    \n",
    "    def test_large_input_angles(self):\n",
    "        '''Test distance when input angles are above 360'''\n",
    "        a = 720\n",
    "        b = 270\n",
    "        expected = 90\n",
    "        result = angle_distance(a, b)\n",
    "        self.assertEqual(result, expected)"
   ]
  },
  {
   "cell_type": "code",
   "execution_count": null,
   "metadata": {},
   "outputs": [],
   "source": [
    "unittest.main(argv=['first-arg-is-ignored'], exit=False);"
   ]
  },
  {
   "cell_type": "markdown",
   "metadata": {},
   "source": [
    "### Fix the third bug\n",
    "\n",
    "To fix the bug for this case we need to make sure the input values are re-cast in the range `[0, 360)`:"
   ]
  },
  {
   "cell_type": "code",
   "execution_count": null,
   "metadata": {},
   "outputs": [],
   "source": [
    "def angle_distance(a, b):\n",
    "    d = abs((b % 360) - (a % 360))\n",
    "    return min(360 - d, d)"
   ]
  },
  {
   "cell_type": "code",
   "execution_count": null,
   "metadata": {},
   "outputs": [],
   "source": [
    "unittest.main(argv=['first-arg-is-ignored'], exit=False);"
   ]
  },
  {
   "cell_type": "markdown",
   "metadata": {},
   "source": [
    "### Cleaning up the tests\n",
    "Looking at our tests now we can see that is really the same test four times over, just with different values.  `unittest` allows us to create `subTests` for cases like this:"
   ]
  },
  {
   "cell_type": "code",
   "execution_count": null,
   "metadata": {},
   "outputs": [],
   "source": [
    "class TestAngle(unittest.TestCase):\n",
    "    def test_small_angles(self):\n",
    "        '''Test distance between angles'''\n",
    "        a = [10, 0, 1, 720]\n",
    "        b = [90, 270, 359, 270]\n",
    "        expected = [80, 90, 2, 90]\n",
    "        for i, j, e in zip(a, b, expected):\n",
    "            with self.subTest(a=i, b=j):\n",
    "                result = angle_distance(i, j)\n",
    "                self.assertEqual(result, e)"
   ]
  },
  {
   "cell_type": "code",
   "execution_count": null,
   "metadata": {},
   "outputs": [],
   "source": [
    "unittest.main(argv=['first-arg-is-ignored'], exit=False);"
   ]
  },
  {
   "cell_type": "markdown",
   "metadata": {},
   "source": [
    "If any of the sub-tests fail the error message will display all the keywords we passed into `subTest` (e.g. `(a=10, b=90)`)"
   ]
  },
  {
   "cell_type": "markdown",
   "metadata": {},
   "source": [
    "## Things to keep in mind about writing tests\n",
    "\n",
    "+ Only write tests for code you have written\n",
    "+ Every function definition should have at least one test\n",
    "+ Every `if-else` block in a function should have a test (this is known as \"test coverage\" and can be calculated by running `nosetests --with-coverage`)\n",
    "+ If you find a bug in your code, write a test that reproduces the bug, then fix the bug\n",
    "+ Never remove test cases\n",
    "+ Github can be configured to run tests before allowing PR to be merged to ensure new code does not break existing code\n",
    "+ Write your tests first then write your code until all tests pass (this is know as \"test driven development\")"
   ]
  },
  {
   "cell_type": "code",
   "execution_count": null,
   "metadata": {},
   "outputs": [],
   "source": []
  }
 ],
 "metadata": {
  "kernelspec": {
   "display_name": "Python 3",
   "language": "python",
   "name": "python3"
  },
  "language_info": {
   "codemirror_mode": {
    "name": "ipython",
    "version": 3
   },
   "file_extension": ".py",
   "mimetype": "text/x-python",
   "name": "python",
   "nbconvert_exporter": "python",
   "pygments_lexer": "ipython3",
   "version": "3.7.3"
  }
 },
 "nbformat": 4,
 "nbformat_minor": 4
}

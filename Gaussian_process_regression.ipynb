{
 "cells": [
  {
   "cell_type": "markdown",
   "metadata": {},
   "source": [
    "# Gaussian Process Regression\n",
    "\n",
    "At times you don't care about the underlying model for your data points and just want a model that describes the data.  One such fitting technique is know as Gaussian process regression (also know as kriging).  This kind of regression assumes all the data points are drawn from a common covariance function.  This function is used to generate an (infinite) set of functions and only keeps the ones that pass through the observed data.\n",
    "\n",
    "## Packages being used\n",
    "+ `sklearn`: has a Gaussian process regression function\n",
    "\n",
    "## Relevant documentation\n",
    "+ `sklearn`: http://scikit-learn.org/stable/modules/gaussian_process.html"
   ]
  },
  {
   "cell_type": "code",
   "execution_count": 0,
   "metadata": {
    "collapsed": false
   },
   "outputs": [],
   "source": [
    "import numpy as np\n",
    "from sklearn.gaussian_process import GaussianProcessRegressor\n",
    "from sklearn.gaussian_process.kernels import RBF, ConstantKernel\n",
    "from matplotlib import pyplot as plt\n",
    "import mpl_style\n",
    "%matplotlib notebook\n",
    "plt.style.use(mpl_style.style1)"
   ]
  },
  {
   "cell_type": "markdown",
   "metadata": {},
   "source": [
    "## The squared exponential covariance\n",
    "As an example we will use the squared exponential covariance function:\n",
    "$$ \\operatorname{Cov}{(x_1, x_2; h)} = \\exp{\\left( \\frac{-(x_1 - x_2)^2}{2h^2} \\right)} $$\n",
    "Lets using this function to draw some _unconstraned_ functions:"
   ]
  },
  {
   "cell_type": "code",
   "execution_count": 0,
   "metadata": {
    "collapsed": false
   },
   "outputs": [],
   "source": [
    "# define the function\n",
    "def squared_exponential(x1, x2, h):\n",
    "    return np.exp(-0.5 * (x1 - x2)**2 / h**2)\n",
    "\n",
    "# draw samples from it\n",
    "x = np.linspace(0, 10, 1000)\n",
    "h = 1\n",
    "\n",
    "mu = np.zeros(len(x))\n",
    "C = squared_exponential(x, x[:, None], h)\n",
    "draws = np.random.multivariate_normal(mu, C, 6)\n",
    "\n",
    "plt.figure(1)\n",
    "plt.plot(x, draws.T)\n",
    "plt.xlabel('x')\n",
    "plt.ylabel('f(x)')"
   ]
  },
  {
   "cell_type": "markdown",
   "metadata": {},
   "source": [
    "## Constrain the model\n",
    "Assume we have some data points, we can use Gaussian process regression to only pick the models that pass through those points:"
   ]
  },
  {
   "cell_type": "code",
   "execution_count": 0,
   "metadata": {
    "collapsed": false
   },
   "outputs": [],
   "source": [
    "x1 = np.array([1, 3, 5, 6, 7, 8])\n",
    "y1 = x1 * np.sin(x1)\n",
    "\n",
    "kernel = ConstantKernel(1, (1e-3, 1e3)) * RBF(10, (1e-2, 1e2))\n",
    "gp1 = GaussianProcessRegressor(kernel=kernel, n_restarts_optimizer=9)\n",
    "gp1.fit(x1[:, None], y1)\n",
    "f1, f1_err = gp1.predict(x[:, None], return_std=True)\n",
    "print('Coefficient of determination R^2 of the prediction: {0}'.format(gp1.score(x1[:, None], y1)))\n",
    "print('Best fit kernel: {0}'.format(gp2.kernel_))\n",
    "\n",
    "plt.figure(2, figsize=(12, 6))\n",
    "plt.plot(x, f1, '-', label='Prediction')\n",
    "plt.fill_between(x, f1 - 1.96 * f1_err, f1 + 1.96 * f1_err, alpha=0.3, label='95% confidence interval')\n",
    "plt.plot(x, gp1.sample_y(x[:, None], n_samples=10), color='k', alpha=0.1)\n",
    "plt.plot(x1, y1, 'ok', ms=6, label='Observed')\n",
    "plt.plot(x, x * np.sin(x), '--', label='True')\n",
    "plt.xlabel('x')\n",
    "plt.ylabel('f(x)')\n",
    "plt.ylim(-6, 12)\n",
    "plt.legend(loc='upper left', ncol=2)\n",
    "plt.tight_layout()"
   ]
  },
  {
   "cell_type": "markdown",
   "metadata": {},
   "source": [
    "## Lets add some noise to the data"
   ]
  },
  {
   "cell_type": "code",
   "execution_count": 0,
   "metadata": {
    "collapsed": false
   },
   "outputs": [],
   "source": [
    "dy = 0.5 + np.random.random(y1.shape)\n",
    "noise = np.random.normal(0, dy)\n",
    "y2 = y1 + noise\n",
    "gp2 = GaussianProcessRegressor(kernel=kernel, alpha=(dy / y2) ** 2, n_restarts_optimizer=10)\n",
    "gp2.fit(x1[:, None], y1)\n",
    "f2, f2_err = gp2.predict(x[:, None], return_std=True)\n",
    "print('Coefficient of determination R^2 of the prediction: {0}'.format(gp2.score(x1[:, None], y1, sample_weight=1 / dy**2)))\n",
    "print('Best fit kernel: {0}'.format(gp2.kernel_))\n",
    "\n",
    "plt.figure(3, figsize=(12, 6))\n",
    "plt.plot(x, f2, '-', label='Prediction')\n",
    "plt.fill_between(x, f2 - 1.96 * f2_err, f2 + 1.96 * f2_err, alpha=0.3, label='95% confidence interval')\n",
    "plt.plot(x, gp2.sample_y(x[:, None], n_samples=10), color='k', alpha=0.1)\n",
    "plt.errorbar(x1, y2, yerr=dy, fmt='ok', ms=6, label='Observed')\n",
    "plt.plot(x, x * np.sin(x), '--', label='True')\n",
    "plt.xlabel('x')\n",
    "plt.ylabel('f(x)')\n",
    "plt.ylim(-6, 12)\n",
    "plt.legend(loc='upper left', ncol=2)\n",
    "plt.tight_layout()"
   ]
  },
  {
   "cell_type": "markdown",
   "metadata": {},
   "source": [
    "## Other notes\n",
    "+ There are many covariance kernels you can pick\n",
    "+ The `ConstantKernerl` here acts as a global multiplication factor for `RBF` kernel\n",
    "+ The kernel parameter (e.g. the first parameter in the `RBF` function) is automatically fit within the bounds provided (e.g. the second parameter in `RBF`)\n",
    "+ `n_restarts_optimizer` indicates the number of times to re-run the optimizer starting at different locations (e.g. to find a global max instead of a local max)\n",
    "+ All `X` positions must be unique\n",
    "+ The computational complexity is $O(N^3)$ where $N$ is the number of data point "
   ]
  },
  {
   "cell_type": "code",
   "execution_count": 0,
   "metadata": {
    "collapsed": true
   },
   "outputs": [],
   "source": []
  }
 ],
 "metadata": {
  "kernelspec": {
   "display_name": "Python 3",
   "language": "python",
   "name": "python3"
  },
  "language_info": {
   "codemirror_mode": {
    "name": "ipython",
    "version": 3
   },
   "file_extension": ".py",
   "mimetype": "text/x-python",
   "name": "python",
   "nbconvert_exporter": "python",
   "pygments_lexer": "ipython3",
   "version": "3.5.2"
  }
 },
 "nbformat": 4,
 "nbformat_minor": 0
}
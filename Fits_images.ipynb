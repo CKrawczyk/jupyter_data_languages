{
 "cells": [
  {
   "cell_type": "markdown",
   "metadata": {},
   "source": [
    "# Working with FITS images\n",
    "\n",
    "In this example we will be working with `.fits` images to acheve the following:\n",
    "+ read in image data\n",
    "+ apply a normalization and stretch to the image\n",
    "+ save the raw image as a `.png`\n",
    "+ plot the image with coordinate grid and labels\n",
    "+ align mulitiple `.fits` images\n",
    "+ create a false color image\n",
    "\n",
    "## Packages being used\n",
    "We will be makeing use of the following packages:\n",
    "+ `astropy`: most of the heavly lifting is done here\n",
    "+ `matplotlib`: all of the plotting is done here\n",
    "+ `wcsaxes`: creates projects `matplotlib` can use for astronomy coordinate systems\n",
    "+ `reproject`: aligns image data based on `.fits` headers\n",
    "+ `numpy`: making arrays\n",
    "\n",
    "## Relevant documentation\n",
    "Useful documentation:\n",
    "+ `astropy`: http://docs.astropy.org/en/stable/wcs/, http://docs.astropy.org/en/stable/visualization/normalization.html\n",
    "+ `matplotlib`: http://matplotlib.org/1.4.0/api/pyplot_summary.html\n",
    "+ `wcsaxes`: http://wcsaxes.readthedocs.io/en/latest/overlaying_coordinate_systems.html\n",
    "+ `reproject`: http://reproject.readthedocs.io/en/stable/"
   ]
  },
  {
   "cell_type": "code",
   "execution_count": 0,
   "metadata": {
    "collapsed": true
   },
   "outputs": [],
   "source": [
    "from astropy.visualization import stretch, interval, mpl_normalize\n",
    "from astropy.io import fits\n",
    "from astropy import wcs\n",
    "from reproject import reproject_interp\n",
    "from matplotlib import pyplot as plt\n",
    "import numpy as np\n",
    "import mpl_style\n",
    "%matplotlib notebook\n",
    "plt.style.use(mpl_style.style1)"
   ]
  },
  {
   "cell_type": "markdown",
   "metadata": {},
   "source": [
    "### Read in the file\n",
    "Read in the B-band `.fits` file, pull out the wcs information from the header, and get the image data:"
   ]
  },
  {
   "cell_type": "code",
   "execution_count": 0,
   "metadata": {
    "collapsed": false
   },
   "outputs": [],
   "source": [
    "hdu_b = fits.open('M31_SAsb_b.fits')\n",
    "w = wcs.WCS(hdu_b[0].header)\n",
    "image_b = hdu_b[0].data"
   ]
  },
  {
   "cell_type": "markdown",
   "metadata": {},
   "source": [
    "You will see warnings from the wcs line saying that the header info being depreciated, these are old `.fits` files (DSS data) and you can safely ingoure this.\n",
    "\n",
    "### Normalize and scale the image\n",
    "To convert the raw pixel counts into an image we first need to normalize the image and than apply a stretch.  For this galaxy we are giong to set the normalization so the lowest 10% of pixels are `0` and the top 0.05% of pixels are `1` before applying a `log` stretch to the image.  Since we will be applying this same code to the R- and IR-band images as well we will write this as a function."
   ]
  },
  {
   "cell_type": "code",
   "execution_count": 0,
   "metadata": {
    "collapsed": true
   },
   "outputs": [],
   "source": [
    "def logScaleImage(image, return_full=False):\n",
    "    # create the normalization function\n",
    "    reagon = interval.AsymmetricPercentileInterval(10., 99.95)\n",
    "    # pull out the min and max vales for this normalization\n",
    "    vmin, vmax = reagon.get_limits(image)\n",
    "    # define the `a` value for the log stretch in terms of these limits\n",
    "    a = vmax/vmin - 1\n",
    "    # create the stretching function\n",
    "    scale = stretch.LogStretch(a=a)\n",
    "    # compose the two functions and apply it to the image\n",
    "    image_scaled = (scale + reagon)(image)\n",
    "    if return_full:\n",
    "        # if `return_full` flag is set return normlaization and stretch info as well\n",
    "        return image_scaled, vmin, vmax, scale\n",
    "    # return the final normalized and stretched image\n",
    "    return image_scaled"
   ]
  },
  {
   "cell_type": "markdown",
   "metadata": {},
   "source": [
    "Ignore the `return_full` flag for now, we will come back to why that information is useful later on.  Now we can use this function to process our image:"
   ]
  },
  {
   "cell_type": "code",
   "execution_count": 0,
   "metadata": {
    "collapsed": false
   },
   "outputs": [],
   "source": [
    "image_b_scaled, vmin, vmax, scale = logScaleImage(image_b, return_full=True)"
   ]
  },
  {
   "cell_type": "markdown",
   "metadata": {},
   "source": [
    "### Save the image\n",
    "We can directly save the resulting (full size) image to a `.png` using `plt.imsave`.  Since this is a single band image we will use a grey scale colormap, and to keep the proper orentation of the image we will set `origin='lower'`:"
   ]
  },
  {
   "cell_type": "code",
   "execution_count": 0,
   "metadata": {
    "collapsed": true
   },
   "outputs": [],
   "source": [
    "plt.imsave('image_output/M31_b.png', image_b_scaled, cmap='Greys_r', origin='lower')"
   ]
  },
  {
   "cell_type": "markdown",
   "metadata": {},
   "source": [
    "### Making a publication ready plot\n",
    "This is helpful if you just want to extract the image from a `.fits` file, but if you are creating a figure for a paper you will want to add axes and labels to the image as well.  The heavy lifiting adding axis information is taken care of by the `wcsaxes` package that extends `matplotlib`'s projection system to understand wcs.  We will be applying these settings to two differnt plots, so we will write this bit as a function:"
   ]
  },
  {
   "cell_type": "code",
   "execution_count": 0,
   "metadata": {
    "collapsed": true
   },
   "outputs": [],
   "source": [
    "def set_up_axes(ax):\n",
    "    # extract the coordinates from the axes object\n",
    "    ra = ax.coords['ra']\n",
    "    dec = ax.coords['dec']\n",
    "    # add axis labels\n",
    "    ra.set_axislabel('RA')\n",
    "    dec.set_axislabel('Dec')\n",
    "    # add a coordinate grid to the image\n",
    "    ax.coords.grid(color='white', alpha=0.5, linestyle='solid', lw=1.5)\n",
    "    for coord in [ra, dec]:\n",
    "        # set the tick formats\n",
    "        coord.set_major_formatter('d.dd')\n",
    "        coord.set_ticks(color='white')\n",
    "        coord.display_minor_ticks(True)"
   ]
  },
  {
   "cell_type": "markdown",
   "metadata": {},
   "source": [
    "With this set up we now have to create our figure and axes than plot our image:"
   ]
  },
  {
   "cell_type": "code",
   "execution_count": 0,
   "metadata": {
    "collapsed": false
   },
   "outputs": [],
   "source": [
    "fig1 = plt.figure(1)\n",
    "# create an axes with a wcs projection\n",
    "ax = fig1.add_subplot(111, projection=w)\n",
    "set_up_axes(ax)\n",
    "plt.imshow(image_b_scaled, cmap='Greys_r', origin='lower')\n",
    "plt.colorbar()"
   ]
  },
  {
   "cell_type": "markdown",
   "metadata": {},
   "source": [
    "### Making the colorbar mean something\n",
    "Notice how the colorbar extends from `0` to `1` in the final plot, this is a result of our normalization, and is not that useful for a publication figure.  To get around this we can instead create a noramlization function that is passed into `plt.imshow` and use the orginal image:"
   ]
  },
  {
   "cell_type": "code",
   "execution_count": 0,
   "metadata": {
    "collapsed": false
   },
   "outputs": [],
   "source": [
    "# create and normalization function matplotlib can use\n",
    "# this is what the `return_full` flag was for\n",
    "norm = mpl_normalize.ImageNormalize(vmin=vmin, vmax=vmax, stretch=scale)\n",
    "fig2 = plt.figure(2)\n",
    "ax2 = fig2.add_subplot(111, projection=w)\n",
    "set_up_axes(ax2)\n",
    "plt.imshow(image_b, cmap='Greys_r', origin='lower', norm=norm)\n",
    "plt.colorbar()"
   ]
  },
  {
   "cell_type": "markdown",
   "metadata": {},
   "source": [
    "Now the colorbar provides the pixel values instead of the normalized values!\n",
    "\n",
    "### Making a false color image\n",
    "Now that we know how to make single band images, let make a false color RGB image using the B-, R-, and IR-bands.  Since the other bands were take at different times, the raw images are not likely to line up pixel-by-pixel, insetad we will have to use the wcs information from the header to reproject the R- and IR-bands onto the same grid as the B-band.  This will be done using the `reproject` package:"
   ]
  },
  {
   "cell_type": "code",
   "execution_count": 0,
   "metadata": {
    "collapsed": false
   },
   "outputs": [],
   "source": [
    "hdu_r = fits.open('M31_SAsb_r.fits')\n",
    "hdu_ir = fits.open('M31_SAsb_ir.fits')\n",
    "\n",
    "image_r, footprint_r = reproject_interp(hdu_r[0], hdu_b[0].header)\n",
    "image_ir, footprint_ir = reproject_interp(hdu_ir[0], hdu_b[0].header)"
   ]
  },
  {
   "cell_type": "markdown",
   "metadata": {},
   "source": [
    "Again you will get warnings about out dated `.fits` headers, but you can ignore these.  Now that the images have been reprojected we can apply the log stretch to each band:"
   ]
  },
  {
   "cell_type": "code",
   "execution_count": 0,
   "metadata": {
    "collapsed": true
   },
   "outputs": [],
   "source": [
    "image_r_scaled = logScaleImage(image_r)\n",
    "image_ir_scaled = logScaleImage(image_ir)"
   ]
  },
  {
   "cell_type": "markdown",
   "metadata": {},
   "source": [
    "The last thing to do is stack the 3 images into a single array and pass it into `imsave`:"
   ]
  },
  {
   "cell_type": "code",
   "execution_count": 0,
   "metadata": {
    "collapsed": false
   },
   "outputs": [],
   "source": [
    "RGB_image = np.zeros([image_b_scaled.shape[0], image_b_scaled.shape[1], 3])\n",
    "# R image\n",
    "RGB_image[:, :, 0] = image_ir_scaled\n",
    "# G image\n",
    "RGB_image[:, :, 1] = image_r_scaled\n",
    "# B image\n",
    "RGB_image[:, :, 2] = image_b_scaled\n",
    "# make sure NaN values are set to zero\n",
    "RGB_image[~np.isfinite(RGB_image)] = 0.0\n",
    "plt.imsave('image_output/M31_rgb.png', RGB_image, origin='lower')"
   ]
  },
  {
   "cell_type": "markdown",
   "metadata": {},
   "source": [
    "You can also pass this array into `plt.imshow` to as above and place coordiates on it."
   ]
  }
 ],
 "metadata": {
  "kernelspec": {
   "display_name": "Python 3",
   "language": "python",
   "name": "python3"
  },
  "language_info": {
   "codemirror_mode": {
    "name": "ipython",
    "version": 3
   },
   "file_extension": ".py",
   "mimetype": "text/x-python",
   "name": "python",
   "nbconvert_exporter": "python",
   "pygments_lexer": "ipython3",
   "version": "3.5.2"
  }
 },
 "nbformat": 4,
 "nbformat_minor": 0
}
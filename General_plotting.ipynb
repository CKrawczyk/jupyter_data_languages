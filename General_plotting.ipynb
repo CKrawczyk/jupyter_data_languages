{
 "cells": [
  {
   "cell_type": "markdown",
   "metadata": {},
   "source": [
    "# Making publication ready plots with `Matplotlib`\n",
    "`Matplotlib` makes it easy to make quick plots in python, unfortunately the default style is very ugly and is not publication ready.  The good news is it has become much easier to customize in the past few years.\n",
    "\n",
    "## Packages being used\n",
    "+ `matplotlib`: all the plotting is done here\n",
    "+ `astropy`: has an override for the histogram function for finding bin widths\n",
    "\n",
    "## Relevant documentation\n",
    "+ `matplotlib`: http://matplotlib.org/1.5.1/api/pyplot_summary.html, http://matplotlib.org/users/customizing.html, http://matplotlib.org/gallery.html, http://matplotlib.org/examples/color/colormaps_reference.html\n",
    "+ `astropy`: http://docs.astropy.org/en/stable/visualization/histogram.html"
   ]
  },
  {
   "cell_type": "code",
   "execution_count": 0,
   "metadata": {
    "collapsed": true
   },
   "outputs": [],
   "source": [
    "from matplotlib import pyplot as plt\n",
    "import numpy as np\n",
    "from astropy.visualization import hist\n",
    "%matplotlib notebook"
   ]
  },
  {
   "cell_type": "markdown",
   "metadata": {},
   "source": [
    "## Make some test data to plot\n",
    "To test out various plots lets create some fake data sets.\n",
    "\n",
    "### 1D data set"
   ]
  },
  {
   "cell_type": "code",
   "execution_count": 0,
   "metadata": {
    "collapsed": true
   },
   "outputs": [],
   "source": [
    "# generate some complicated data\n",
    "rng = np.random.RandomState(0)\n",
    "one_d = np.concatenate([-5 + 1.8 * rng.standard_cauchy(500),\n",
    "                        -4 + 0.8 * rng.standard_cauchy(2000),\n",
    "                        -1 + 0.3 * rng.standard_cauchy(500),\n",
    "                         2 + 0.8 * rng.standard_cauchy(1000),\n",
    "                         4 + 1.5 * rng.standard_cauchy(1000)])\n",
    "\n",
    "# truncate to a reasonable range\n",
    "one_d = one_d[(one_d > -15) & (one_d < 15)]"
   ]
  },
  {
   "cell_type": "markdown",
   "metadata": {},
   "source": [
    "### 2D image"
   ]
  },
  {
   "cell_type": "code",
   "execution_count": 0,
   "metadata": {
    "collapsed": true
   },
   "outputs": [],
   "source": [
    "x_img = np.arange(0, np.pi, 0.1)\n",
    "y_img = np.arange(0, 2*np.pi, 0.1)\n",
    "X_img, Y_img = np.meshgrid(x_img, y_img)\n",
    "image = np.cos(X_img) * np.sin(Y_img) * 10"
   ]
  },
  {
   "cell_type": "markdown",
   "metadata": {},
   "source": [
    "### 2D line"
   ]
  },
  {
   "cell_type": "code",
   "execution_count": 0,
   "metadata": {
    "collapsed": true
   },
   "outputs": [],
   "source": [
    "x = np.arange(10)\n",
    "y = np.zeros(10)"
   ]
  },
  {
   "cell_type": "markdown",
   "metadata": {},
   "source": [
    "### 2D scatter"
   ]
  },
  {
   "cell_type": "code",
   "execution_count": 0,
   "metadata": {
    "collapsed": false
   },
   "outputs": [],
   "source": [
    "n = 100000\n",
    "x_scatter = np.random.standard_normal(n)\n",
    "y_scatter = 2 + 3 * x_scatter + 4 * np.random.standard_normal(n)"
   ]
  },
  {
   "cell_type": "markdown",
   "metadata": {},
   "source": [
    "# The Defaults (and why they are bad)\n",
    "Lets take a look at `matplotlib`'s default styles for these types of plots\n",
    "\n",
    "## Histograms\n",
    "This example also shows how to create subplots using `GridSpec` (see http://matplotlib.org/users/gridspec.html), change the figure size, and how to use latex in your labels."
   ]
  },
  {
   "cell_type": "code",
   "execution_count": 0,
   "metadata": {
    "collapsed": false
   },
   "outputs": [],
   "source": [
    "plt.figure(1, figsize=(8, 5))\n",
    "ax1 = plt.subplot2grid((1, 2), (0, 0))\n",
    "ax1.hist(one_d, bins=10, normed=True)\n",
    "ax1.set_xlabel(r'$\\sigma$')\n",
    "ax1.set_ylabel(r'P($\\sigma$)')\n",
    "ax2 = plt.subplot2grid((1, 2), (0, 1))\n",
    "ax2.hist(one_d, bins=200, normed=True)\n",
    "ax2.set_xlabel(r'$\\sigma$')\n",
    "ax2.set_ylabel(r'P($\\sigma$)')\n",
    "# make sure subplots don't overlap\n",
    "plt.tight_layout()"
   ]
  },
  {
   "cell_type": "markdown",
   "metadata": {},
   "source": [
    "### Issues\n",
    "+ bins size needs to be set \"by eye\"\n",
    "+ each bin is drawn as a filled rectangle\n",
    "+ font size is small\n",
    "+ tick size is small\n",
    "+ lines are too thin\n",
    "\n",
    "## Images"
   ]
  },
  {
   "cell_type": "code",
   "execution_count": 0,
   "metadata": {
    "collapsed": false
   },
   "outputs": [],
   "source": [
    "plt.figure(2)\n",
    "plt.imshow(image)\n",
    "plt.xlabel('x')\n",
    "plt.ylabel('y')\n",
    "cbar = plt.colorbar()\n",
    "cbar.set_label('z')"
   ]
  },
  {
   "cell_type": "markdown",
   "metadata": {},
   "source": [
    "### issues\n",
    "+ color map is about as bad as it gets (e.g. https://eagereyes.org/basics/rainbow-color-map, http://bids.github.io/colormap/)\n",
    "+ font size is small\n",
    "+ tick size is small\n",
    "+ lines are too thin\n",
    "\n",
    "## Line plots\n",
    "For this example we will show a set of horizontal lines that are all labeled."
   ]
  },
  {
   "cell_type": "code",
   "execution_count": 0,
   "metadata": {
    "collapsed": false
   },
   "outputs": [],
   "source": [
    "plt.figure(3)\n",
    "for i in range(7):\n",
    "    plt.plot(x, y + i, label='{0}'.format(i))\n",
    "plt.xlabel('x')\n",
    "plt.ylabel('y')\n",
    "plt.ylim(-1, 7)\n",
    "plt.legend()"
   ]
  },
  {
   "cell_type": "markdown",
   "metadata": {},
   "source": [
    "### issues\n",
    "+ colors are harsh on the eyes\n",
    "+ font size is small\n",
    "+ tick size is small\n",
    "+ lines are too thin\n",
    "+ legend could be formatted better\n",
    "\n",
    "## 2D scatter plots"
   ]
  },
  {
   "cell_type": "code",
   "execution_count": 0,
   "metadata": {
    "collapsed": false
   },
   "outputs": [],
   "source": [
    "plt.figure(4)\n",
    "plt.plot(x_scatter, y_scatter, 'o')\n",
    "plt.xlabel('x')\n",
    "plt.ylabel('y')"
   ]
  },
  {
   "cell_type": "markdown",
   "metadata": {},
   "source": [
    "### issues\n",
    "+ there is no useful information contained in the high density regions\n",
    "+ font size is small\n",
    "+ tick size is small\n",
    "+ lines are too thin\n",
    "\n",
    "# Doing things better\n",
    "The easiest way to make consistent plots is to define a new `matplotlib` style in its own `.py` file and import it every time you want to plot some data.  Included in with these notebooks is and example style file `mpl_style.py` that increases line widths, increases fonts sizes, uses a better color cycle, formats ticks and axes larger, and sets to default colormap to something reasonable (`magma`, `plasma`, `inferno`, and `viridis` are all color blind friendly and convert to black and white without issue)."
   ]
  },
  {
   "cell_type": "code",
   "execution_count": 0,
   "metadata": {
    "collapsed": true
   },
   "outputs": [],
   "source": [
    "import mpl_style\n",
    "plt.style.use(mpl_style.style1)"
   ]
  },
  {
   "cell_type": "markdown",
   "metadata": {},
   "source": [
    "## Histograms\n",
    "`astropy.visualization` has a wrapper for the default `hist` function that will automatically pick the bin width based on the data.  Additionally we will add some keywords to make the histogram look better."
   ]
  },
  {
   "cell_type": "code",
   "execution_count": 0,
   "metadata": {
    "collapsed": false,
    "scrolled": false
   },
   "outputs": [],
   "source": [
    "plt.figure(5, figsize=(8, 5))\n",
    "ax1 = plt.subplot2grid((1, 2), (0, 0))\n",
    "hist(one_d, bins='scott', ax=ax1, normed=True, histtype='step', lw=1.5)\n",
    "ax1.set_title(\"bins='scott'\")\n",
    "ax1.set_xlabel(r'$\\sigma$')\n",
    "ax1.set_ylabel(r'P($\\sigma$)')\n",
    "ax2 = plt.subplot2grid((1, 2), (0, 1))\n",
    "hist(one_d, bins='blocks', ax=ax2, normed=True, histtype='step', lw=1.5)\n",
    "ax2.set_title(\"bins='blocks'\")\n",
    "ax2.set_xlabel(r'$\\sigma$')\n",
    "ax2.set_ylabel(r'P($\\sigma$)')\n",
    "# make sure subplots don't overlap\n",
    "plt.tight_layout()"
   ]
  },
  {
   "cell_type": "markdown",
   "metadata": {},
   "source": [
    "## Images"
   ]
  },
  {
   "cell_type": "code",
   "execution_count": 0,
   "metadata": {
    "collapsed": false
   },
   "outputs": [],
   "source": [
    "plt.figure(6)\n",
    "plt.imshow(image)\n",
    "plt.xlabel('x')\n",
    "plt.ylabel('y')\n",
    "cbar = plt.colorbar()\n",
    "cbar.set_label('z')"
   ]
  },
  {
   "cell_type": "markdown",
   "metadata": {},
   "source": [
    "Since this images is symmetrical about 0, it would best if we use a diverging colorbar (**note** if the data was not symmetric you can use the `vmin` and `vmax` keywords to make the color scale symmetric.):"
   ]
  },
  {
   "cell_type": "code",
   "execution_count": 0,
   "metadata": {
    "collapsed": false
   },
   "outputs": [],
   "source": [
    "plt.figure(7)\n",
    "plt.imshow(image, cmap=plt.cm.RdBu, vmin=-10, vmax=10)\n",
    "plt.xlabel('x')\n",
    "plt.ylabel('y')\n",
    "cbar = plt.colorbar()\n",
    "cbar.set_label('z')"
   ]
  },
  {
   "cell_type": "markdown",
   "metadata": {},
   "source": [
    "## Line plots\n",
    "Adding a few more keywords to the `legend` and slightly adjusting the plot range we can make it look much better:"
   ]
  },
  {
   "cell_type": "code",
   "execution_count": 0,
   "metadata": {
    "collapsed": false
   },
   "outputs": [],
   "source": [
    "plt.figure(8, figsize=(10, 6))\n",
    "for i in range(10):\n",
    "    plt.plot(x, y + i, label='{0}'.format(i))\n",
    "plt.xlabel('x')\n",
    "plt.ylabel('y')\n",
    "plt.ylim(-3.5, 10)\n",
    "plt.legend(loc='lower center', ncol=5)"
   ]
  },
  {
   "cell_type": "markdown",
   "metadata": {},
   "source": [
    "## 2D scatter plots\n",
    "Since the goal of this plot is to show density we should plot it as a 2D-histogram instead of scatter points.  To avoid various binning issues I recommend using `hexbin` and a colormap that is white at 0:"
   ]
  },
  {
   "cell_type": "code",
   "execution_count": 0,
   "metadata": {
    "collapsed": false
   },
   "outputs": [],
   "source": [
    "plt.figure(9)\n",
    "plt.hexbin(x_scatter, y_scatter, gridsize=50, mincnt=1, cmap=plt.cm.Blues, zorder=-1)\n",
    "plt.xlabel('x')\n",
    "plt.ylabel('y')\n",
    "cbar = plt.colorbar()\n",
    "cbar.set_label('Count')"
   ]
  },
  {
   "cell_type": "markdown",
   "metadata": {},
   "source": [
    "**Note** If you want to make a density plot that keeps the outliers as scatter points check out the `matplotlib` extension I wrote: https://github.com/CKrawczyk/densityplot\n",
    "\n",
    "# Saving a figure\n",
    "To save the current figure using the `plt.savefig(<filename>)` command.  For data analysis `.png` are fine, for publication `.pdf` will be needed.  **Note** if you have a large number of objects drawn (e.g. scatter points) in a figure the `.pdf` will be slow to open since everything is saved in vector format.  In these cases I would recommend rasterizing as many of the objects as you can (e.g. the scatter points) but leaving the axes as vectors.  This can be done by setting the axes rasterization zorder via `plt.gca().set_rasterization_zorder(1)`, any object with `zorder<1` will be rasterized, and all other object (including the axes) will be victorized.\n",
    "\n",
    "Rasterization can also be used to \"trick\" `.eps` and `.ps` file formats to using transparency: https://osxastrotricks.wordpress.com/2014/01/19/rasterized-graphics-with-matplotlib-to-preserve-plot-transparencies-for-apj-figures/\n",
    "\n",
    "# Tips and tricks\n",
    "+ whenever possible don't put plotting commands inside a loop, each time a new command is called the entire figure is redrawn, meaning each pass through the loop will take longer than the previous pass.  Instead you can pass the plot function 2D arrays and each _column_ will be plotted as a different line.\n",
    "+ change marker face colors and marker edge colors with the `mfc` and `mec` keywords\n",
    "+ change the line style and line width with the `ls` and `lw` keywords\n",
    "+ use the `alpha` keyword to set transparency\n",
    "+ use the `zorder` keyword to control what objects are ploted on top\n",
    "+ turn on minor tick marks with `plt.minorticks_on()`\n",
    "+ set custom tick positions and labels using `plt.xticks()` and `plt.yticks()`\n",
    "+ use interactive mode with `plt.ion()` (the `plt.show()` command is not input blocking, **note** currently dose not work on macs)\n",
    "+ get the current figure object with `plt.gcf()`\n",
    "+ get the current axes object with `plt.gca()`\n",
    "+ clear the current figure with `plt.clf()`\n",
    "+ reverse an axis with `plt.gca().invert_xaxis()` or `plt.gca().invert_yaxis()`\n",
    "+ make log plots with `plt.semilogx()`, `plt.semilogy()`, or `plt.loglog()`\n",
    "+ plot error bars with `plt.errorbar()`\n",
    "+ get ideas and examples from the `matplotlib` gallery: http://matplotlib.org/gallery.html\n",
    "+ get a list of all the available plot functions: http://matplotlib.org/1.5.1/api/pyplot_summary.html\n",
    "+ get a list of all available colormaps: http://matplotlib.org/examples/color/colormaps_reference.html"
   ]
  },
  {
   "cell_type": "code",
   "execution_count": 0,
   "metadata": {
    "collapsed": true
   },
   "outputs": [],
   "source": []
  }
 ],
 "metadata": {
  "kernelspec": {
   "display_name": "Python 3",
   "language": "python",
   "name": "python3"
  },
  "language_info": {
   "codemirror_mode": {
    "name": "ipython",
    "version": 3
   },
   "file_extension": ".py",
   "mimetype": "text/x-python",
   "name": "python",
   "nbconvert_exporter": "python",
   "pygments_lexer": "ipython3",
   "version": "3.5.2"
  }
 },
 "nbformat": 4,
 "nbformat_minor": 0
}
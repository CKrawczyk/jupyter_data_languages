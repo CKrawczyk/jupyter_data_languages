{
 "cells": [
  {
   "cell_type": "markdown",
   "metadata": {},
   "source": [
    "# Using Python for Data\n",
    "\n",
    "## Useful Packages\n",
    "+ [`numpy`](http://www.numpy.org/): Adds ability to deal with multi-dimensional arrays and vectorized math functions\n",
    "+ [`scipy`](http://www.scipy.org/): Extends `numpy` by adding common scientific functions such as ODE integration, statistical analysis, linear algebra, and FFT\n",
    "+ [`matplotlib`](http://matplotlib.org/): A useful plotting package\n",
    "+ [`astroML`](http://www.astroml.org/): Common statistical analysis and machine learning tools used in astronomy\n",
    "\n",
    "## Installing python\n",
    "The easiest way to install python on any OS is to use [anaconda python](https://www.continuum.io/downloads).  This will install a local version of python on your system so you don't need to worry about needing admin to install new packages.  Most of the packages listed above are installed by default with anaconda.  For this class we will be using python 3, and I recommend you use this version for you research (unless you have a very good reason to use python 2).  In these notes I have marked where the syntax or behavior has changed between python 2 and 3.\n",
    "\n",
    "## Text editors\n",
    "Although there are numerous IDEs (e.g. IDLE, Spyder) for python, for most everyday use you will likely be writing python code in a text editor and running your programs via the command line.  In this case it is important to have a good text editor that supports syntax highlighting and possibly live linting (syntax and style checking).  I use the [atom](https://atom.io/) text editor, a 'hackable' text editor that offers a large range of add-ons to support your coding style.  If you decide to use atom you will want the following add-ons: `language-python`, `linter`, `linter-python`, and the python packages `pylama` and `pylama-pylint` installed.  As a bonus the atom editor has full support for `git` and `git-hub`.\n",
    "\n",
    "## Coding style\n",
    "When working on code with others, it is helpful to define a coding style for a project.  That way the code is written in a predictable way and it is easy to read.  Many projects use [PEP 8](https://www.python.org/dev/peps/pep-0008/) as a starting point for a style.\n",
    "\n",
    "## Basic syntax examples\n",
    "For a general overview of python's syntax head over to [codecademy](https://www.codecademy.com/learn/python) and take their interactive tutorial.  This class will highlight some of the more important things.\n",
    "\n",
    "### importing packages\n",
    "Any package or code from another `.py` file can be imported with a simple `import` statement.  By default all imported code has its own name space, so you don't have to worry about overwriting existing functions.  The final line of this code block is a \"magic\" `Jupyter` function needed to make interactive plots inside of `Jupyter notebooks`."
   ]
  },
  {
   "cell_type": "code",
   "execution_count": 0,
   "metadata": {
    "collapsed": true
   },
   "outputs": [],
   "source": [
    "import numpy as np\n",
    "import scipy as sp\n",
    "import matplotlib.pyplot as plt\n",
    "%matplotlib notebook"
   ]
  },
  {
   "cell_type": "markdown",
   "metadata": {},
   "source": [
    "### math\n",
    "\n",
    "Basic math opperations work (mostly) as expected:"
   ]
  },
  {
   "cell_type": "code",
   "execution_count": 0,
   "metadata": {
    "collapsed": false
   },
   "outputs": [],
   "source": [
    "# addition\n",
    "print(1 + 1)\n",
    "\n",
    "# subtraction\n",
    "print(1 - 1)\n",
    "\n",
    "# multiplication\n",
    "print(3 * 4)\n",
    "\n",
    "# division\n",
    "print(5 / 4)\n",
    "\n",
    "# integer division\n",
    "print(5 // 4)\n",
    "\n",
    "# exponents\n",
    "print(2**5)\n",
    "\n",
    "# modulo\n",
    "print(5 % 2)"
   ]
  },
  {
   "cell_type": "markdown",
   "metadata": {},
   "source": [
    "**Note:** In python 2 division defaults to integer division if both values are integers!  This was an easy error to make (and difficult to debug/notice) so the default was changed in python 3 and the `//` opperator was introduced for integer division."
   ]
  },
  {
   "cell_type": "markdown",
   "metadata": {},
   "source": [
    "### data containers\n",
    "Data inside of python can be stored in several different types of contains.  The most basic ones are:\n",
    "\n",
    "+ `list`: an indexed data structure that can hold any objects as an element\n",
    "+ `tuple`: same as a `list` except the data is immutable\n",
    "+ `dictionary`: objects stored as a `{key: value}` set (note: any immutable object can be used as a key including a tuple)"
   ]
  },
  {
   "cell_type": "code",
   "execution_count": 0,
   "metadata": {
    "collapsed": true
   },
   "outputs": [],
   "source": [
    "# a list\n",
    "example_list = [1, 2, 3]\n",
    "\n",
    "# a tuple\n",
    "example_tuple = (1, 2, 3)\n",
    "\n",
    "# a dictionary\n",
    "example_dict = {'key1': 1, 'key2': 2, ('key', 3): 3}"
   ]
  },
  {
   "cell_type": "markdown",
   "metadata": {},
   "source": [
    "Elements in these objects can be accessed using an zero-based index (`list` and `tuple`) or key (`dict`)."
   ]
  },
  {
   "cell_type": "code",
   "execution_count": 0,
   "metadata": {
    "collapsed": false
   },
   "outputs": [],
   "source": [
    "print(example_list[0], example_list[-1])\n",
    "print(example_tuple[1])\n",
    "print(example_dict['key1'], example_dict[('key', 3)])"
   ]
  },
  {
   "cell_type": "markdown",
   "metadata": {},
   "source": [
    "Each of these objects have various methods that can be called on them to do various things.  To learn what methods can be called you can look at the python documentation (e.g. https://docs.python.org/3/tutorial/datastructures.html) or you can inspect the object directly and use python's `dir` and `help` functions to get the methods and doc string.\n",
    "\n",
    "**Note:** Methods that start with `__` or `_` are private methods that are not designed to be called directly on the object."
   ]
  },
  {
   "cell_type": "code",
   "execution_count": 0,
   "metadata": {
    "collapsed": false
   },
   "outputs": [],
   "source": [
    "# print the names for all the methods of a list\n",
    "print(dir(example_list))\n",
    "\n",
    "print('=========')\n",
    "\n",
    "# print the help text for the `pop` method\n",
    "help(example_list.pop)"
   ]
  },
  {
   "cell_type": "markdown",
   "metadata": {},
   "source": [
    "### Slicing lists\n",
    "Many times it is useful to slice and manipulate lists.  The format for slicing a list is: `list[start_index:end_index:step_size]`\n",
    "\n",
    "**Note:** `end_index` in not inclusive."
   ]
  },
  {
   "cell_type": "code",
   "execution_count": 0,
   "metadata": {
    "collapsed": false
   },
   "outputs": [],
   "source": [
    "a = [0, 1, 2, 3, 4, 5, 6, 7, 8, 9]\n",
    "\n",
    "# print the full list\n",
    "print(a)\n",
    "\n",
    "# print the first 3 elements\n",
    "print(a[:3])\n",
    "\n",
    "# print the middle 4 elements\n",
    "print(a[3:7])\n",
    "\n",
    "# print the last 3 elements\n",
    "print(a[7:])\n",
    "\n",
    "# you can also use neg index\n",
    "print(a[-3:])\n",
    "\n",
    "# print only even index\n",
    "print(a[::2])\n",
    "\n",
    "# print only odd index\n",
    "print(a[1::2])\n",
    "\n",
    "# print the reverse list\n",
    "print(a[::-1])"
   ]
  },
  {
   "cell_type": "markdown",
   "metadata": {},
   "source": [
    "### Looping over `list`s and `dict`s\n",
    "There are several ways to loop over a `list` or `dict` depending on what values you want access to.\n",
    "\n",
    "**Note:** Two of the print statements in this example using string formatting. `'{0} {2} {1}'.format(a, b, c)` will replace `{0}` with `a` (the 0th argument of the format function), `{1}` with `b`, and `{2}` with `c`."
   ]
  },
  {
   "cell_type": "code",
   "execution_count": 0,
   "metadata": {
    "collapsed": false
   },
   "outputs": [],
   "source": [
    "# loop over values in a list\n",
    "for i in example_list:\n",
    "    print(i)\n",
    "print('=========')\n",
    "\n",
    "# loop over valeus in a list with index\n",
    "for idx, i in enumerate(example_list):\n",
    "    print('{0}: {1}'.format(idx, i))\n",
    "print('=========')\n",
    "\n",
    "# loop over keys in dict\n",
    "for i in example_dict:\n",
    "    print(i)\n",
    "print('=========')\n",
    "\n",
    "# loop over values in dict\n",
    "for i in example_dict.values():\n",
    "    print(i)\n",
    "print('=========')\n",
    "\n",
    "# loop over keys and values in dict\n",
    "for key, value in example_dict.items():\n",
    "    print('{0}: {1}'.format(key, value))"
   ]
  },
  {
   "cell_type": "markdown",
   "metadata": {},
   "source": [
    "**Note**: In python 2 the final loop would have been over `example_dict.iteritems()`."
   ]
  },
  {
   "cell_type": "markdown",
   "metadata": {},
   "source": [
    "### list/dict comprehension\n",
    "If you need to make a `list` or `dict` as the result of a loop you can use comprehension. \n",
    "\n",
    "**Note** comprehension is faster than a normal loop since the iteration uses the `map` function that is compiled in `C`."
   ]
  },
  {
   "cell_type": "code",
   "execution_count": 0,
   "metadata": {
    "collapsed": false
   },
   "outputs": [],
   "source": [
    "# slower method\n",
    "list_loop = []\n",
    "dict_loop = {}\n",
    "for i in a:\n",
    "    list_loop.append(i**2)\n",
    "    dict_loop['key{0}'.format(i)] = i\n",
    "\n",
    "print(list_loop)\n",
    "print(dict_loop)"
   ]
  },
  {
   "cell_type": "code",
   "execution_count": 0,
   "metadata": {
    "collapsed": false
   },
   "outputs": [],
   "source": [
    "# faster method\n",
    "list_comp = [i**2 for i in a]\n",
    "dict_comp = {'key{0}'.format(i): i for i in a}\n",
    "print(list_comp)\n",
    "print(dict_comp)"
   ]
  },
  {
   "cell_type": "markdown",
   "metadata": {},
   "source": [
    "## Writing reusable code\n",
    "It is always best to keep your code DRY (don't repeat yourself).  If you find yourself writing the same block of code more than 2 times you should think about extracting it to a function.  If you need to create a custom object that has its own methods assigned to it you should create a custom class.\n",
    "\n",
    "### functions"
   ]
  },
  {
   "cell_type": "code",
   "execution_count": 0,
   "metadata": {
    "collapsed": false
   },
   "outputs": [],
   "source": [
    "def cube(x):\n",
    "    result = x ** 3\n",
    "    return result\n",
    "\n",
    "print(cube(3))"
   ]
  },
  {
   "cell_type": "markdown",
   "metadata": {},
   "source": [
    "**Note:** In python functions use a local name space, so don't worry about reusing variable names.  Only if a variable is not in the local name space will the function look to the global name space.  If the function argument is immutable changes will be local in scope, otherwise it will not."
   ]
  },
  {
   "cell_type": "code",
   "execution_count": 0,
   "metadata": {
    "collapsed": false
   },
   "outputs": [],
   "source": [
    "# numbers passed into a function are immutable\n",
    "def alpha(x):\n",
    "    x = x + 1\n",
    "    return x\n",
    "\n",
    "x = 1\n",
    "print(alpha(x))\n",
    "print(x)\n",
    "\n",
    "print('=======')\n",
    "\n",
    "# lists passed into a function are not immutable!\n",
    "def beta(x):\n",
    "    x[0] = x[0] + 1\n",
    "    return x\n",
    "\n",
    "x = [1]\n",
    "print(beta(x))\n",
    "print(x)"
   ]
  },
  {
   "cell_type": "markdown",
   "metadata": {},
   "source": [
    "### classes\n",
    "Classes are useful when you will have multiple instances of an object type:"
   ]
  },
  {
   "cell_type": "code",
   "execution_count": 0,
   "metadata": {
    "collapsed": false
   },
   "outputs": [],
   "source": [
    "class Shape:\n",
    "    # the `__init__` method is run when an instance of the class is inialized\n",
    "    def __init__(self, x, y, cx=0.0, cy=0.0):\n",
    "        self.name = 'rectangle'\n",
    "        self.x = x\n",
    "        self.y = y\n",
    "        self.cx = cx\n",
    "        self.cy = cy\n",
    "\n",
    "    def area(self):\n",
    "        return self.x * self.y\n",
    "\n",
    "    def move(self, dx, dy):\n",
    "        self.cx += dx\n",
    "        self.cy += dy\n",
    "\n",
    "    def get_position(self):\n",
    "        return '[x: {0}, y: {1}]'.format(self.cx, self.cy)\n",
    "\n",
    "\n",
    "# make a sub-class of Shape\n",
    "class Square(Shape):\n",
    "    # This will override the `__init__` method of the super-class\n",
    "    def __init__(self, x, cx=0.0, cy=0.0):\n",
    "        self.name = 'square'\n",
    "        self.x = x\n",
    "        self.y = x\n",
    "        self.cx = cx\n",
    "        self.cy = cy\n",
    "    # all methods that are not overridden are inherited from the super-class\n",
    "\n",
    "# make another sub-class of Shape\n",
    "class Circle(Shape):\n",
    "    # This will override the `__init__` method of the super-class\n",
    "    def __init__(self, r, cx=0.0, cy=0.0):\n",
    "        self.name = 'circle'\n",
    "        self.r = r\n",
    "        self.cx = cx\n",
    "        self.cy = cy\n",
    "\n",
    "    # This will override the `area` method of the super-class\n",
    "    # The block quote at the top of the function will be return when `help` is called\n",
    "    def area(self):\n",
    "        '''Return the area of the circle'''\n",
    "        return np.pi * self.r**2\n",
    "\n",
    "# Make some instance of each class\n",
    "shape_list = [Shape(1, 2), Square(3), Circle(5)]\n",
    "for sdx, s in enumerate(shape_list):\n",
    "    # move each instace a different amount\n",
    "    s.move(sdx, sdx)\n",
    "    # print the results of different method calls\n",
    "    print('{0} area: {1}, position: {2}'.format(s.name, s.area(), s.get_position()))\n"
   ]
  },
  {
   "cell_type": "markdown",
   "metadata": {},
   "source": [
    "As demonstrated before, you can show all the methods available to a class by using the `dir` function.  If a docstring is defined (triple quote comment on the first line of a function) it will be displayed if `help` is called on the function."
   ]
  },
  {
   "cell_type": "code",
   "execution_count": 0,
   "metadata": {
    "collapsed": false,
    "scrolled": true
   },
   "outputs": [],
   "source": [
    "print(dir(Circle))\n",
    "print('=========')\n",
    "print(help(shape_list[2].area))"
   ]
  },
  {
   "cell_type": "markdown",
   "metadata": {},
   "source": [
    "### `if __name__ == '__main__':`\n",
    "Sometimes you want a file to run a bit of code when called directly form the command line, but not call that code if it is imported into another file.  This can be done by checking the value of the global variable `__name__`, when a bit of code it directly run `__name__` will be `'__main__'`, when imported it will not."
   ]
  },
  {
   "cell_type": "code",
   "execution_count": 0,
   "metadata": {
    "collapsed": false
   },
   "outputs": [],
   "source": [
    "if __name__ == '__main__':\n",
    "    # code that is only run when this file is directly called from the command line\n",
    "    # This is a good place to put example code for the functions and classes defined in the file\n",
    "    print('An example')"
   ]
  },
  {
   "cell_type": "markdown",
   "metadata": {},
   "source": [
    "### `with` blocks\n",
    "When working with objects that have `__enter__` and `__exit__` methods defined (most commonly the `open` function), you can use a `with` block to automatically call `__enter__` at the start and `__exit__` at the end.  A typical use case is automatically closing files after you are done reading/writing data:"
   ]
  },
  {
   "cell_type": "code",
   "execution_count": 0,
   "metadata": {
    "collapsed": false
   },
   "outputs": [],
   "source": [
    "with open('data.csv', 'r') as file:\n",
    "    print(file.readline())\n",
    "    \n",
    "print('=======')\n",
    "\n",
    "# This line should fail since the file is autmatically closed by the `with` block\n",
    "print(file.readline())"
   ]
  },
  {
   "cell_type": "markdown",
   "metadata": {},
   "source": [
    "## Numpy\n",
    "NumPy extends Python to provide n-dimensional arrays along with a wealth of statistical and mathematical functions."
   ]
  },
  {
   "cell_type": "code",
   "execution_count": 0,
   "metadata": {
    "collapsed": false
   },
   "outputs": [],
   "source": [
    "# creating a 2D array\n",
    "b = np.array([[1, 2, 3], [4, 5, 6], [7, 8, 9]])\n",
    "print(b)"
   ]
  },
  {
   "cell_type": "markdown",
   "metadata": {},
   "source": [
    "There are several ways to create arrays of a given size:"
   ]
  },
  {
   "cell_type": "code",
   "execution_count": 0,
   "metadata": {
    "collapsed": false
   },
   "outputs": [],
   "source": [
    "# a 3D array of zeros\n",
    "zero = np.zeros((2, 2, 3))\n",
    "print(zero)\n",
    "\n",
    "print('========')\n",
    "\n",
    "# a 2D array of ones\n",
    "one = np.ones((2, 4))\n",
    "print(one)\n",
    "\n",
    "print('========')\n",
    "\n",
    "# a 2D empty array\n",
    "empty = np.empty((3, 3))\n",
    "print(empty)"
   ]
  },
  {
   "cell_type": "markdown",
   "metadata": {},
   "source": [
    "**Note:** empty fills the array with whatever happened to be in that bit of memory earlier!\n",
    "\n",
    "### Basic operations\n",
    "Arrays typically act element by element or try to cast the operations in \"obvious\" ways:\n",
    "![Array brodcasting](http://www.astroml.org/_images/fig_broadcast_visual_1.png)\n",
    "-image ref: http://www.astroML.org"
   ]
  },
  {
   "cell_type": "code",
   "execution_count": 0,
   "metadata": {
    "collapsed": false
   },
   "outputs": [],
   "source": [
    "print(b)\n",
    "print('========')\n",
    "\n",
    "# element wise addition\n",
    "print (b + b)\n",
    "print('========')\n",
    "\n",
    "# multipy all elements by 3\n",
    "print (3 * b)\n",
    "print('========')\n",
    "\n",
    "# row wise addition\n",
    "d = np.array([1, 2, 3])\n",
    "print(d)\n",
    "print (b + d)\n",
    "print('========')\n",
    "\n",
    "# column wise addition\n",
    "e = np.array([[1], [2], [3]])\n",
    "print(e)\n",
    "print (b + e)\n",
    "print('========')\n",
    "\n",
    "# outter addition\n",
    "print(d + e)"
   ]
  },
  {
   "cell_type": "markdown",
   "metadata": {},
   "source": [
    "### Methods\n",
    "Arrays also have methods such as `sum()`, `min()`, `max()` and these also take axis arguments to operate just over one index."
   ]
  },
  {
   "cell_type": "code",
   "execution_count": 0,
   "metadata": {
    "collapsed": false
   },
   "outputs": [],
   "source": [
    "# sum of all elements\n",
    "print(b.sum())\n",
    "\n",
    "# sum along the columns\n",
    "print(b.sum(axis=0))\n",
    "\n",
    "# sum along the rows\n",
    "print(b.sum(axis=1))"
   ]
  },
  {
   "cell_type": "markdown",
   "metadata": {},
   "source": [
    "### Slices\n",
    "Works the same as lists, just provide a slice for each dimension:"
   ]
  },
  {
   "cell_type": "code",
   "execution_count": 0,
   "metadata": {
    "collapsed": false
   },
   "outputs": [],
   "source": [
    "print(b[0, 0:2])\n",
    "print('=======')\n",
    "\n",
    "print(b[:, 0:2])\n",
    "print('=======')\n",
    "\n",
    "print(b[0:2, 2:])"
   ]
  },
  {
   "cell_type": "markdown",
   "metadata": {},
   "source": [
    "### Iterating\n",
    "When using an array as an iterator it will loop over the first index of the array (e.g. for a 2d array it loops row-by-row).  Loop over the resulting object to loop over the second index, etc..."
   ]
  },
  {
   "cell_type": "code",
   "execution_count": 0,
   "metadata": {
    "collapsed": false
   },
   "outputs": [],
   "source": [
    "for row in b:\n",
    "    print(row)\n",
    "    print('-------')\n",
    "    for col in row:\n",
    "        print(col)\n",
    "    print('=======')"
   ]
  },
  {
   "cell_type": "markdown",
   "metadata": {},
   "source": [
    "### Masking arrays\n",
    "Many times you want to find the values in an array to pass a particular condition (e.g. `B-V < 0.3`).  This can be done with array masks:"
   ]
  },
  {
   "cell_type": "code",
   "execution_count": 0,
   "metadata": {
    "collapsed": false
   },
   "outputs": [],
   "source": [
    "mask = b >= 5\n",
    "print(mask)\n",
    "print(b[mask])"
   ]
  },
  {
   "cell_type": "markdown",
   "metadata": {},
   "source": [
    "You can also combine multiple masks with the _bitwise_ comparison opperators (`&`, `|`, `~`, `^`):"
   ]
  },
  {
   "cell_type": "code",
   "execution_count": 0,
   "metadata": {
    "collapsed": false
   },
   "outputs": [],
   "source": [
    "mask2 = b <= 7\n",
    "print(mask2)\n",
    "\n",
    "# and\n",
    "print(b[mask & mask2])\n",
    "\n",
    "# or\n",
    "print(b[mask | mask2])\n",
    "\n",
    "# xor\n",
    "print(b[mask ^ mask2])\n",
    "\n",
    "# not\n",
    "print(b[~mask | mask2])"
   ]
  },
  {
   "cell_type": "markdown",
   "metadata": {},
   "source": [
    "You can also create masks based on parts of an array (e.g. the frist column) and apply it to other parts of the array (e.g. the second column):"
   ]
  },
  {
   "cell_type": "code",
   "execution_count": 0,
   "metadata": {
    "collapsed": false
   },
   "outputs": [],
   "source": [
    "# mask of the first column only\n",
    "mask3 = b[:, 0] <= 4\n",
    "print(mask3)\n",
    "\n",
    "# apply that mask to each of the columns\n",
    "print(b[:, 0][mask3])\n",
    "print(b[:, 1][mask3])\n",
    "print(b[:, 2][mask3])"
   ]
  },
  {
   "cell_type": "markdown",
   "metadata": {},
   "source": [
    "### Looking at source code\n",
    "`Numpy` also as a function that lets you take a look at source code:"
   ]
  },
  {
   "cell_type": "code",
   "execution_count": 0,
   "metadata": {
    "collapsed": false
   },
   "outputs": [],
   "source": [
    "np.source(plt.figure)"
   ]
  },
  {
   "cell_type": "markdown",
   "metadata": {},
   "source": [
    "# Astropy\n",
    "The package is the magic that will make your astronomy code easier to write.  There are already functions for many of the things you would want to do, e.g. `.fits` reading/writing, data table reading/writing, sky coordinate transformations, cosmology calculations, and more.\n",
    "\n",
    "## Reading tables\n",
    "You won't want to type most data directly into your python code, instead you can use [`astropy.table`](http://docs.astropy.org/en/stable/io/unified.html) (see also: http://docs.astropy.org/en/stable/table/) to read the data in from a file.  The following data types are directly supported:\n",
    "\n",
    "+ fits\n",
    "+ ascii\n",
    "+ aastex\n",
    "+ basic\n",
    "+ cds\n",
    "+ daophot\n",
    "+ ecsv\n",
    "+ fixed_width\n",
    "+ html\n",
    "+ ipac\n",
    "+ latex\n",
    "+ rdb\n",
    "+ sextractor\n",
    "+ tab\n",
    "+ csv\n",
    "+ votable\n",
    "\n",
    "For other formats you can extend the existing `table` class to support it."
   ]
  },
  {
   "cell_type": "code",
   "execution_count": 0,
   "metadata": {
    "collapsed": false
   },
   "outputs": [],
   "source": [
    "import astropy\n",
    "print(astropy.__version__)"
   ]
  },
  {
   "cell_type": "code",
   "execution_count": 0,
   "metadata": {
    "collapsed": false,
    "scrolled": false
   },
   "outputs": [],
   "source": [
    "from astropy.table import Table\n",
    "t = Table.read('data.csv', format='ascii.csv')\n",
    "print(t)\n",
    "print('==========')\n",
    "print(t.info)\n",
    "print('==========')\n",
    "print(t.colnames)"
   ]
  },
  {
   "cell_type": "markdown",
   "metadata": {},
   "source": [
    "The columns of `t` can be accessed by name:"
   ]
  },
  {
   "cell_type": "code",
   "execution_count": 0,
   "metadata": {
    "collapsed": false,
    "scrolled": true
   },
   "outputs": [],
   "source": [
    "print(t['ID', 'pxy'])"
   ]
  },
  {
   "cell_type": "markdown",
   "metadata": {},
   "source": [
    "And math can be applied:"
   ]
  },
  {
   "cell_type": "code",
   "execution_count": 0,
   "metadata": {
    "collapsed": false
   },
   "outputs": [],
   "source": [
    "print(np.sqrt(t['sx']**2 + t['sy']**2))"
   ]
  },
  {
   "cell_type": "markdown",
   "metadata": {},
   "source": [
    "If you have multiple data tables you can also stack them (vertically or horizontally) or join them (see http://docs.astropy.org/en/stable/table/operations.html)"
   ]
  }
 ],
 "metadata": {
  "kernelspec": {
   "display_name": "Python 3",
   "language": "python",
   "name": "python3"
  },
  "language_info": {
   "codemirror_mode": {
    "name": "ipython",
    "version": 3
   },
   "file_extension": ".py",
   "mimetype": "text/x-python",
   "name": "python",
   "nbconvert_exporter": "python",
   "pygments_lexer": "ipython3",
   "version": "3.5.2"
  }
 },
 "nbformat": 4,
 "nbformat_minor": 0
}
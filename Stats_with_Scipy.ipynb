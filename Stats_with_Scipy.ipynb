{
 "cells": [
  {
   "cell_type": "markdown",
   "metadata": {},
   "source": [
    "# Basic stats using `Scipy`\n",
    "In this example we will go over how to draw samples from various built in probability distributions and define your own custom distributions.\n",
    "\n",
    "## Packages being used\n",
    "+ `scipy`: has all the stats stuff\n",
    "+ `numpy`: has all the array stuff\n",
    "\n",
    "## Relevant documentation\n",
    "+ `scipy.stats`: http://docs.scipy.org/doc/scipy/reference/tutorial/stats.html, http://docs.scipy.org/doc/scipy/reference/generated/scipy.stats.rv_continuous.html#scipy.stats.rv_continuous, http://docs.scipy.org/doc/scipy/reference/stats.html#module-scipy.stats"
   ]
  },
  {
   "cell_type": "code",
   "execution_count": 0,
   "metadata": {
    "collapsed": true
   },
   "outputs": [],
   "source": [
    "import numpy as np\n",
    "import scipy.stats as st\n",
    "# some special functions we will make use of later on\n",
    "from scipy.special import erfc\n",
    "from matplotlib import pyplot as plt\n",
    "from astropy.visualization import hist\n",
    "import mpl_style\n",
    "%matplotlib notebook\n",
    "plt.style.use(mpl_style.style1)"
   ]
  },
  {
   "cell_type": "markdown",
   "metadata": {},
   "source": [
    "There are many probability distributions that are already available in `scipy`: http://docs.scipy.org/doc/scipy/reference/stats.html#module-scipy.stats.  These classes allow for the evaluations of PDFs, CDFs, PPFs, moments, random draws, and fitting.  As an example lets take a look at the normal distribution."
   ]
  },
  {
   "cell_type": "code",
   "execution_count": 0,
   "metadata": {
    "collapsed": true
   },
   "outputs": [],
   "source": [
    "norm = st.norm(loc=0, scale=1)\n",
    "x = np.linspace(-5, 5, 1000)\n",
    "plt.figure(1, figsize=(8, 10))\n",
    "plt.subplot2grid((2, 2), (0, 0))\n",
    "plt.plot(x, norm.pdf(x))\n",
    "plt.xlabel('x')\n",
    "plt.ylabel('PDF(x)')\n",
    "plt.xlim(-5, 5)\n",
    "plt.subplot2grid((2, 2), (0, 1))\n",
    "plt.plot(x, norm.cdf(x))\n",
    "plt.xlabel('x')\n",
    "plt.ylabel('CDF(x)')\n",
    "plt.xlim(-5, 5)\n",
    "plt.subplot2grid((2, 2), (1, 0))\n",
    "sample_norm = norm.rvs(size=100000)\n",
    "hist(sample_norm, bins='knuth', histtype='step', lw=1.5, density=True)\n",
    "plt.xlabel('x')\n",
    "plt.ylabel('Random Sample')\n",
    "plt.tight_layout()"
   ]
  },
  {
   "cell_type": "markdown",
   "metadata": {},
   "source": [
    "You can calculate moments and fit data:"
   ]
  },
  {
   "cell_type": "code",
   "execution_count": 0,
   "metadata": {
    "collapsed": true
   },
   "outputs": [],
   "source": [
    "for i in range(4):\n",
    "    print('moment {0}: {1}'.format(i+1, norm.moment(i+1)))\n",
    "\n",
    "print('best fit: {0}'.format(st.norm.fit(sample_norm)))"
   ]
  },
  {
   "cell_type": "markdown",
   "metadata": {},
   "source": [
    "# Custom probability distributions\n",
    "Sometimes you need to use obscure PDFs that are not already in `scipy` or `astropy`.  When this is the case you can make your own subclass of `st.rv_continuous` and overwrite the `_pdf` or `_cdf` methods.  This new sub class will act exactly like the built in distributions.\n",
    "\n",
    "The methods you can override in the subclass are:\n",
    "\n",
    "+ \\_rvs: create a random sample drawn from the distribution\n",
    "+ \\_pdf: calculate the PDF at any point\n",
    "+ \\_cdf: calculate the CDF at any point\n",
    "+ \\_sf: survival function, a.k.a. 1-CDF(x)\n",
    "+ \\_ppf: percent point function, a.k.a. inverse CDF\n",
    "+ \\_isf: inverse survival function\n",
    "+ \\_stats: function that calculates the first 4 moments\n",
    "+ \\_munp: function that calculates the nth moment\n",
    "+ \\_entropy: differential entropy\n",
    "+ \\_argcheck: function to check the input arguments are valid (e.g. var>0)\n",
    "\n",
    "You should override any method you have analytic functions for, otherwise (typically slow) numerical integration, differentiation, and function inversion are used to transform the ones that are specified.\n",
    "\n",
    "## The exponentially modified Gaussian distribution\n",
    "As and example lets create a class for the EMG distribution (https://en.wikipedia.org/wiki/Exponentially_modified_Gaussian_distribution).  This is the distributions resulting from the sum of a Gaussian random variable and an exponential random variable.  The PDF and CDF are:\n",
    "\n",
    "\\begin{align}\n",
    "f(x;\\mu,\\sigma, \\lambda) & = \\frac{\\lambda}{2} \\exp{\\left( \\frac{\\lambda}{2} \\left[ 2\\mu+\\lambda\\sigma^{2}-2x \\right] \\right)} \\operatorname{erfc}{\\left( \\frac{\\mu + \\lambda\\sigma^{2}-x}{\\sigma\\sqrt{2}} \\right)} \\\\\n",
    "F(x; \\mu, \\sigma, \\lambda) & = \\Phi(u, 0, v) - \\Phi(u, v^2, v) \\exp{\\left( -u + \\frac{v^2}{2} \\right)} \\\\\n",
    "\\Phi(x, a, b) & = \\frac{1}{2} \\left[ 1 + \\operatorname{erf}{\\left( \\frac{x - a}{b\\sqrt{2}} \\right)} \\right] \\\\\n",
    "u & = \\lambda(x - \\mu) \\\\\n",
    "v & = \\lambda\\sigma\n",
    "\\end{align}"
   ]
  },
  {
   "cell_type": "code",
   "execution_count": 0,
   "metadata": {
    "collapsed": true
   },
   "outputs": [],
   "source": [
    "# create a generating class\n",
    "class EMG_gen1(st.rv_continuous):\n",
    "    def _pdf(self, x, mu, sig, lam):\n",
    "        u = 0.5 * lam * (2 * mu + lam * sig**2 - 2 * x)\n",
    "        v = (mu + lam * sig**2 - x)/(sig * np.sqrt(2))\n",
    "        return 0.5 * lam * np.exp(u) * erfc(v)\n",
    "    def _cdf(self, x, mu, sig, lam):\n",
    "        u = lam * (x - mu)\n",
    "        v = lam * sig\n",
    "        phi1 = st.norm.cdf(u, loc=0, scale=v)\n",
    "        phi2 = st.norm.cdf(u, loc=v**2, scale=v)\n",
    "        return phi1 - phi2 * np.exp(-u + 0.5 * v**2)\n",
    "    def _stats(self, mu, sig, lam):\n",
    "        # reutrn the mean, variance, skewness, and kurtosis\n",
    "        mean = mu + 1 / lam\n",
    "        var = sig**2 + 1 / lam**2\n",
    "        sl = sig * lam\n",
    "        u = 1 + 1 / sl**2\n",
    "        skew = (2 / sl**3) * u**(-3 / 2)\n",
    "        v = 3 * (1 + 2 / sl**2 + 3 / sl**4) / u**2\n",
    "        kurt = v - 3\n",
    "        return mean, var, skew, kurt\n",
    "    def _argcheck(self, mu, sig, lam):\n",
    "        return np.isfinite(mu) and (sig > 0) and (lam > 0)\n",
    "\n",
    "class EMG_gen2(EMG_gen1):\n",
    "    def _ppf(self, q, mu, sig, lam):\n",
    "        # use linear interpolation to solve this faster (not exact, but much faster than the built in method)\n",
    "        # pick range large enough to fit the full cdf\n",
    "        var = sig**2 + 1 / lam**2\n",
    "        x = np.arange(mu - 50 * np.sqrt(var), mu + 50 * np.sqrt(var), 0.01)\n",
    "        y = self.cdf(x, mu, sig, lam)\n",
    "        return np.interp(q, y, x)\n",
    "\n",
    "class EMG_gen3(EMG_gen1):\n",
    "    def _rvs(self, mu, sig, lam):\n",
    "        # redefine the random sampler to sample based on a normal and exp dist\n",
    "        return st.norm.rvs(loc=mu, scale=sig, size=self._size) + st.expon.rvs(loc=0, scale=1/lam, size=self._size)\n",
    "\n",
    "# use generator to make the new class\n",
    "EMG1 = EMG_gen1(name='EMG1')\n",
    "EMG2 = EMG_gen2(name='EMG2')\n",
    "EMG3 = EMG_gen3(name='EMG3')"
   ]
  },
  {
   "cell_type": "markdown",
   "metadata": {},
   "source": [
    "Lets look at how long it takes to create readom samples for each of these version of the EMG:"
   ]
  },
  {
   "cell_type": "code",
   "execution_count": 0,
   "metadata": {
    "collapsed": true
   },
   "outputs": [],
   "source": [
    "%time EMG1.rvs(0, 1, 0.5, size=1000)\n",
    "print('=========')\n",
    "%time EMG2.rvs(0, 1, 0.5, size=1000)\n",
    "print('=========')\n",
    "%time EMG3.rvs(0, 1, 0.5, size=1000)\n",
    "print('=========')"
   ]
  },
  {
   "cell_type": "markdown",
   "metadata": {},
   "source": [
    "As you can see, the numerical inversion of the CDF is very slow, the approximation to the inversion is much faster, and defining `_rvs` in terms of the `normal` and `exp` distributions is the fastest.\n",
    "\n",
    "Lets take a look at the results for `EMG3`:"
   ]
  },
  {
   "cell_type": "code",
   "execution_count": 0,
   "metadata": {
    "collapsed": true
   },
   "outputs": [],
   "source": [
    "dist = EMG3(0, 1, 0.5)\n",
    "x = np.linspace(-5, 20, 1000)\n",
    "plt.figure(2, figsize=(8, 10))\n",
    "plt.subplot2grid((2, 2), (0, 0))\n",
    "plt.plot(x, dist.pdf(x))\n",
    "plt.xlabel('x')\n",
    "plt.ylabel('PDF(x)')\n",
    "plt.subplot2grid((2, 2), (0, 1))\n",
    "plt.plot(x, dist.cdf(x))\n",
    "plt.xlabel('x')\n",
    "plt.ylabel('CDF(x)')\n",
    "plt.subplot2grid((2, 2), (1, 0))\n",
    "sample_emg = dist.rvs(size=10000)\n",
    "hist(sample_emg, bins='knuth', histtype='step', lw=1.5, density=True)\n",
    "plt.xlabel('x')\n",
    "plt.ylabel('Random Sample')\n",
    "plt.tight_layout()"
   ]
  },
  {
   "cell_type": "markdown",
   "metadata": {},
   "source": [
    "As with the built in functions we can calculate moments and do fits to data.  **Note** Since we are not using the built in `loc` and `scale` params they are fixed to 0 and 1 in the fit below."
   ]
  },
  {
   "cell_type": "code",
   "execution_count": 0,
   "metadata": {
    "collapsed": true
   },
   "outputs": [],
   "source": [
    "for i in range(4):\n",
    "    print('moment {0}: {1}'.format(i+1, dist.moment(i+1)))\n",
    "\n",
    "print('best fit: {0}'.format(EMG3.fit(sample_emg, floc=0, fscale=1)))"
   ]
  },
  {
   "cell_type": "markdown",
   "metadata": {},
   "source": [
    "For reference here is how `scipy` defines this distriubtion (found under the name `exponnorm`):"
   ]
  },
  {
   "cell_type": "code",
   "execution_count": 0,
   "metadata": {
    "collapsed": true
   },
   "outputs": [],
   "source": [
    "import scipy.stats._continuous_distns as cd\n",
    "np.source(cd.exponnorm_gen)"
   ]
  },
  {
   "cell_type": "code",
   "execution_count": 0,
   "metadata": {
    "collapsed": true
   },
   "outputs": [],
   "source": [
    "%time st.exponnorm.rvs(0.5, size=1000)"
   ]
  },
  {
   "cell_type": "code",
   "execution_count": 0,
   "metadata": {
    "collapsed": true
   },
   "outputs": [],
   "source": []
  }
 ],
 "metadata": {
  "kernelspec": {
   "display_name": "Python 3",
   "language": "python",
   "name": "python3"
  },
  "language_info": {
   "codemirror_mode": {
    "name": "ipython",
    "version": 3
   },
   "file_extension": ".py",
   "mimetype": "text/x-python",
   "name": "python",
   "nbconvert_exporter": "python",
   "pygments_lexer": "ipython3",
   "version": "3.5.4"
  }
 },
 "nbformat": 4,
 "nbformat_minor": 1
}
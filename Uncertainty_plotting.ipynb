{
 "cells": [
  {
   "cell_type": "markdown",
   "metadata": {},
   "source": [
    "# Plotting uncertainty\n",
    "In this example we will go over plotting uncertainties in various ways:\n",
    "+ y errorbars\n",
    "+ x errorbars\n",
    "+ x and y errorbars (no covariance)\n",
    "+ x and y error-ellipse (covariance)\n",
    "\n",
    "## Packages being used\n",
    "+ `matplotlib`: all the plotting\n",
    "+ `pandas`: read in the data table\n",
    "+ `numpy` and `scipy`: convert cov matrix to ellipse params\n",
    "\n",
    "## Relevant documentation\n",
    "+ `matplotlib`: https://matplotlib.org/stable/api/_as_gen/matplotlib.pyplot.errorbar.html"
   ]
  },
  {
   "cell_type": "code",
   "execution_count": 1,
   "metadata": {},
   "outputs": [],
   "source": [
    "import pandas\n",
    "import scipy.linalg as sl\n",
    "import numpy as np\n",
    "from matplotlib import pyplot as plt\n",
    "from matplotlib.patches import Ellipse\n",
    "import mpl_style\n",
    "%matplotlib inline\n",
    "plt.style.use(mpl_style.style1)"
   ]
  },
  {
   "cell_type": "markdown",
   "metadata": {},
   "source": [
    "Our data contains $(x, y)$ positions with 1-$\\sigma$ uncertainties and covariance values:"
   ]
  },
  {
   "cell_type": "code",
   "execution_count": 2,
   "metadata": {},
   "outputs": [
    {
     "data": {
      "text/html": [
       "<div>\n",
       "<style scoped>\n",
       "    .dataframe tbody tr th:only-of-type {\n",
       "        vertical-align: middle;\n",
       "    }\n",
       "\n",
       "    .dataframe tbody tr th {\n",
       "        vertical-align: top;\n",
       "    }\n",
       "\n",
       "    .dataframe thead th {\n",
       "        text-align: right;\n",
       "    }\n",
       "</style>\n",
       "<table border=\"1\" class=\"dataframe\">\n",
       "  <thead>\n",
       "    <tr style=\"text-align: right;\">\n",
       "      <th></th>\n",
       "      <th>ID</th>\n",
       "      <th>x</th>\n",
       "      <th>y</th>\n",
       "      <th>sy</th>\n",
       "      <th>sx</th>\n",
       "      <th>pxy</th>\n",
       "    </tr>\n",
       "  </thead>\n",
       "  <tbody>\n",
       "    <tr>\n",
       "      <th>0</th>\n",
       "      <td>1</td>\n",
       "      <td>201</td>\n",
       "      <td>592</td>\n",
       "      <td>61</td>\n",
       "      <td>9</td>\n",
       "      <td>-0.84</td>\n",
       "    </tr>\n",
       "    <tr>\n",
       "      <th>1</th>\n",
       "      <td>2</td>\n",
       "      <td>244</td>\n",
       "      <td>401</td>\n",
       "      <td>25</td>\n",
       "      <td>4</td>\n",
       "      <td>0.31</td>\n",
       "    </tr>\n",
       "    <tr>\n",
       "      <th>2</th>\n",
       "      <td>3</td>\n",
       "      <td>47</td>\n",
       "      <td>583</td>\n",
       "      <td>38</td>\n",
       "      <td>11</td>\n",
       "      <td>0.64</td>\n",
       "    </tr>\n",
       "    <tr>\n",
       "      <th>3</th>\n",
       "      <td>4</td>\n",
       "      <td>287</td>\n",
       "      <td>402</td>\n",
       "      <td>15</td>\n",
       "      <td>7</td>\n",
       "      <td>-0.27</td>\n",
       "    </tr>\n",
       "    <tr>\n",
       "      <th>4</th>\n",
       "      <td>5</td>\n",
       "      <td>203</td>\n",
       "      <td>495</td>\n",
       "      <td>21</td>\n",
       "      <td>5</td>\n",
       "      <td>-0.33</td>\n",
       "    </tr>\n",
       "    <tr>\n",
       "      <th>5</th>\n",
       "      <td>6</td>\n",
       "      <td>58</td>\n",
       "      <td>173</td>\n",
       "      <td>15</td>\n",
       "      <td>9</td>\n",
       "      <td>0.67</td>\n",
       "    </tr>\n",
       "    <tr>\n",
       "      <th>6</th>\n",
       "      <td>7</td>\n",
       "      <td>202</td>\n",
       "      <td>479</td>\n",
       "      <td>27</td>\n",
       "      <td>4</td>\n",
       "      <td>-0.02</td>\n",
       "    </tr>\n",
       "    <tr>\n",
       "      <th>7</th>\n",
       "      <td>8</td>\n",
       "      <td>202</td>\n",
       "      <td>504</td>\n",
       "      <td>14</td>\n",
       "      <td>4</td>\n",
       "      <td>-0.05</td>\n",
       "    </tr>\n",
       "    <tr>\n",
       "      <th>8</th>\n",
       "      <td>9</td>\n",
       "      <td>198</td>\n",
       "      <td>510</td>\n",
       "      <td>30</td>\n",
       "      <td>11</td>\n",
       "      <td>-0.84</td>\n",
       "    </tr>\n",
       "    <tr>\n",
       "      <th>9</th>\n",
       "      <td>10</td>\n",
       "      <td>158</td>\n",
       "      <td>416</td>\n",
       "      <td>16</td>\n",
       "      <td>7</td>\n",
       "      <td>-0.69</td>\n",
       "    </tr>\n",
       "    <tr>\n",
       "      <th>10</th>\n",
       "      <td>11</td>\n",
       "      <td>165</td>\n",
       "      <td>393</td>\n",
       "      <td>14</td>\n",
       "      <td>5</td>\n",
       "      <td>0.30</td>\n",
       "    </tr>\n",
       "    <tr>\n",
       "      <th>11</th>\n",
       "      <td>12</td>\n",
       "      <td>201</td>\n",
       "      <td>442</td>\n",
       "      <td>25</td>\n",
       "      <td>5</td>\n",
       "      <td>-0.46</td>\n",
       "    </tr>\n",
       "    <tr>\n",
       "      <th>12</th>\n",
       "      <td>13</td>\n",
       "      <td>157</td>\n",
       "      <td>317</td>\n",
       "      <td>52</td>\n",
       "      <td>5</td>\n",
       "      <td>-0.03</td>\n",
       "    </tr>\n",
       "    <tr>\n",
       "      <th>13</th>\n",
       "      <td>14</td>\n",
       "      <td>131</td>\n",
       "      <td>311</td>\n",
       "      <td>16</td>\n",
       "      <td>6</td>\n",
       "      <td>0.50</td>\n",
       "    </tr>\n",
       "    <tr>\n",
       "      <th>14</th>\n",
       "      <td>15</td>\n",
       "      <td>166</td>\n",
       "      <td>400</td>\n",
       "      <td>34</td>\n",
       "      <td>6</td>\n",
       "      <td>0.73</td>\n",
       "    </tr>\n",
       "    <tr>\n",
       "      <th>15</th>\n",
       "      <td>16</td>\n",
       "      <td>160</td>\n",
       "      <td>337</td>\n",
       "      <td>31</td>\n",
       "      <td>5</td>\n",
       "      <td>-0.52</td>\n",
       "    </tr>\n",
       "    <tr>\n",
       "      <th>16</th>\n",
       "      <td>17</td>\n",
       "      <td>186</td>\n",
       "      <td>423</td>\n",
       "      <td>42</td>\n",
       "      <td>9</td>\n",
       "      <td>0.90</td>\n",
       "    </tr>\n",
       "    <tr>\n",
       "      <th>17</th>\n",
       "      <td>18</td>\n",
       "      <td>125</td>\n",
       "      <td>334</td>\n",
       "      <td>26</td>\n",
       "      <td>8</td>\n",
       "      <td>0.40</td>\n",
       "    </tr>\n",
       "    <tr>\n",
       "      <th>18</th>\n",
       "      <td>19</td>\n",
       "      <td>218</td>\n",
       "      <td>533</td>\n",
       "      <td>16</td>\n",
       "      <td>6</td>\n",
       "      <td>-0.78</td>\n",
       "    </tr>\n",
       "    <tr>\n",
       "      <th>19</th>\n",
       "      <td>20</td>\n",
       "      <td>146</td>\n",
       "      <td>344</td>\n",
       "      <td>22</td>\n",
       "      <td>5</td>\n",
       "      <td>-0.56</td>\n",
       "    </tr>\n",
       "  </tbody>\n",
       "</table>\n",
       "</div>"
      ],
      "text/plain": [
       "    ID    x    y  sy  sx   pxy\n",
       "0    1  201  592  61   9 -0.84\n",
       "1    2  244  401  25   4  0.31\n",
       "2    3   47  583  38  11  0.64\n",
       "3    4  287  402  15   7 -0.27\n",
       "4    5  203  495  21   5 -0.33\n",
       "5    6   58  173  15   9  0.67\n",
       "6    7  202  479  27   4 -0.02\n",
       "7    8  202  504  14   4 -0.05\n",
       "8    9  198  510  30  11 -0.84\n",
       "9   10  158  416  16   7 -0.69\n",
       "10  11  165  393  14   5  0.30\n",
       "11  12  201  442  25   5 -0.46\n",
       "12  13  157  317  52   5 -0.03\n",
       "13  14  131  311  16   6  0.50\n",
       "14  15  166  400  34   6  0.73\n",
       "15  16  160  337  31   5 -0.52\n",
       "16  17  186  423  42   9  0.90\n",
       "17  18  125  334  26   8  0.40\n",
       "18  19  218  533  16   6 -0.78\n",
       "19  20  146  344  22   5 -0.56"
      ]
     },
     "metadata": {},
     "output_type": "display_data"
    }
   ],
   "source": [
    "t = pandas.read_csv('data.csv')\n",
    "display(t)"
   ]
  },
  {
   "cell_type": "markdown",
   "metadata": {},
   "source": [
    "**Note** the full covariance matrix for each data point is: \n",
    "$\\left[ \\begin{array}{ccc} \\sigma_x^2 & \\rho_{xy}\\sigma_x \\sigma_y \\\\ \\rho_{xy}\\sigma_x \\sigma_y & \\sigma_y^2 \\end{array} \\right]$\n",
    "\n",
    "## y-uncertainties or x-uncertainties only\n",
    "The most common type of data you will work with will only have (significant) uncertainties in one direction.  In this case it is very easy to plot using `errorbar`:"
   ]
  },
  {
   "cell_type": "code",
   "execution_count": 3,
   "metadata": {},
   "outputs": [
    {
     "data": {
      "image/png": "[encoded data removed]",
      "text/plain": [
       "<Figure size 576x432 with 1 Axes>"
      ]
     },
     "metadata": {
      "needs_background": "light"
     },
     "output_type": "display_data"
    }
   ],
   "source": [
    "plt.figure(1)\n",
    "plt.errorbar(\n",
    "    t.x,\n",
    "    t.y,\n",
    "    yerr=t.sy,\n",
    "    ls='None',\n",
    "    mfc='k',\n",
    "    mec='k',\n",
    "    ms=5,\n",
    "    marker='s',\n",
    "    ecolor='k'\n",
    ")\n",
    "plt.xlabel('x')\n",
    "plt.ylabel('y')\n",
    "plt.ylim(0, 700);"
   ]
  },
  {
   "cell_type": "code",
   "execution_count": 4,
   "metadata": {},
   "outputs": [
    {
     "data": {
      "image/png": "[encoded data removed]",
      "text/plain": [
       "<Figure size 576x432 with 1 Axes>"
      ]
     },
     "metadata": {
      "needs_background": "light"
     },
     "output_type": "display_data"
    }
   ],
   "source": [
    "plt.figure(2)\n",
    "plt.errorbar(\n",
    "    t.x,\n",
    "    t.y,\n",
    "    xerr=t.sx,\n",
    "    ls='None',\n",
    "    mfc='k',\n",
    "    mec='k',\n",
    "    ms=5,\n",
    "    marker='s',\n",
    "    ecolor='k'\n",
    ")\n",
    "plt.xlabel('x')\n",
    "plt.ylabel('y')\n",
    "plt.ylim(0, 700);"
   ]
  },
  {
   "cell_type": "markdown",
   "metadata": {},
   "source": [
    "## Uncertainties in both x and y with no cov\n",
    "If your data has no cov you can still use `errorbar`:"
   ]
  },
  {
   "cell_type": "code",
   "execution_count": 5,
   "metadata": {},
   "outputs": [
    {
     "data": {
      "image/png": "[encoded data removed]",
      "text/plain": [
       "<Figure size 576x432 with 1 Axes>"
      ]
     },
     "metadata": {
      "needs_background": "light"
     },
     "output_type": "display_data"
    }
   ],
   "source": [
    "plt.figure(3)\n",
    "plt.errorbar(\n",
    "    t.x,\n",
    "    t.y,\n",
    "    yerr=t.sy,\n",
    "    xerr=t.sx,\n",
    "    ls='None',\n",
    "    mfc='k',\n",
    "    mec='k',\n",
    "    ms=5,\n",
    "    marker='s',\n",
    "    ecolor='k'\n",
    ")\n",
    "plt.xlabel('x')\n",
    "plt.ylabel('y')\n",
    "plt.ylim(0, 700);"
   ]
  },
  {
   "cell_type": "markdown",
   "metadata": {},
   "source": [
    "## Uncertainties in both x and y with cov\n",
    "If your data does have cov you should plot a 1-$\\sigma$ ellipse around each point.  There is no built in function to do this, so we will have to write our own.  We will start by writing a function to turn a cov matrix into the parameters for an ellipse and draw it on a figure."
   ]
  },
  {
   "cell_type": "code",
   "execution_count": 6,
   "metadata": {},
   "outputs": [
    {
     "data": {
      "image/png": "[encoded data removed]",
      "text/plain": [
       "<Figure size 576x432 with 1 Axes>"
      ]
     },
     "metadata": {
      "needs_background": "light"
     },
     "output_type": "display_data"
    }
   ],
   "source": [
    "def cov_to_ellipse(cov, pos, **kwargs):\n",
    "    eigvec,eigval,V = sl.svd(cov,full_matrices=False)\n",
    "    # the angle the first eigenvector makes with the x-axis\n",
    "    theta = np.degrees(np.arctan2(eigvec[1, 0], eigvec[0, 0]))\n",
    "    # full width and height of ellipse, not radius\n",
    "    # the eigenvalues are the variance along the eigenvectors\n",
    "    width, height = 2 * np.sqrt(eigval)\n",
    "    return Ellipse(xy=pos, width=width, height=height, angle=theta, **kwargs)\n",
    "\n",
    "def plot_ellipse(t, ax=None, **kwargs):\n",
    "    if ax is None:\n",
    "        ax = plt.gca()\n",
    "    for rdx, row in t.iterrows():\n",
    "        cov = np.array(\n",
    "            [[row.sx**2, row.pxy * row.sx * row.sy],\n",
    "             [row.pxy * row.sx * row.sy, row.sy**2]]\n",
    "        )\n",
    "        ellip = cov_to_ellipse(cov, [row.x, row.y], **kwargs)\n",
    "        ax.add_artist(ellip)\n",
    "        \n",
    "plt.figure(4)\n",
    "plt.plot(\n",
    "    t['x'],\n",
    "    t['y'],\n",
    "    's',\n",
    "    mfc='k',\n",
    "    mec='k',\n",
    "    ms=5\n",
    ")\n",
    "plot_ellipse(\n",
    "    t,\n",
    "    lw=1.5,\n",
    "    fc='none',\n",
    "    ec='C0'\n",
    ")\n",
    "plt.xlabel('x')\n",
    "plt.ylabel('y')\n",
    "plt.ylim(0, 700)\n",
    "plt.draw();"
   ]
  },
  {
   "cell_type": "code",
   "execution_count": null,
   "metadata": {},
   "outputs": [],
   "source": []
  }
 ],
 "metadata": {
  "kernelspec": {
   "display_name": "Python 3 (Data Languages Lecture)",
   "language": "python",
   "name": "datalanguages"
  },
  "language_info": {
   "codemirror_mode": {
    "name": "ipython",
    "version": 3
   },
   "file_extension": ".py",
   "mimetype": "text/x-python",
   "name": "python",
   "nbconvert_exporter": "python",
   "pygments_lexer": "ipython3",
   "version": "3.8.9"
  },
  "widgets": {
   "application/vnd.jupyter.widget-state+json": {
    "state": {},
    "version_major": 2,
    "version_minor": 0
   }
  }
 },
 "nbformat": 4,
 "nbformat_minor": 4
}

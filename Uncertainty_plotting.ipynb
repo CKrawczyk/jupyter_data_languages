{
 "cells": [
  {
   "cell_type": "markdown",
   "metadata": {},
   "source": [
    "# Plotting uncertainty\n",
    "In this example we will go over plotting uncertainties in various ways:\n",
    "+ y errorbars\n",
    "+ x errorbars\n",
    "+ x and y errorbars (no covariance)\n",
    "+ x and y error-ellipse (covariance)\n",
    "\n",
    "## Packages being used\n",
    "+ `matplotlib`: all the plotting\n",
    "+ `astropy`: read in the data table\n",
    "+ `numpy` and `scipy`: convert cov matrix to ellipse params\n",
    "\n",
    "## Relevant documentation\n",
    "+ `matplotlib`: http://matplotlib.org/1.5.1/api/pyplot_api.html#matplotlib.pyplot.errorbar"
   ]
  },
  {
   "cell_type": "code",
   "execution_count": 0,
   "metadata": {
    "collapsed": true
   },
   "outputs": [],
   "source": [
    "from astropy.table import Table\n",
    "import scipy.linalg as sl\n",
    "import numpy as np\n",
    "from matplotlib import pyplot as plt\n",
    "from matplotlib.patches import Ellipse\n",
    "import mpl_style\n",
    "%matplotlib notebook\n",
    "plt.style.use(mpl_style.style1)"
   ]
  },
  {
   "cell_type": "markdown",
   "metadata": {},
   "source": [
    "Our data contains $(x, y)$ positions with 1-$\\sigma$ uncertainties and covariance values:"
   ]
  },
  {
   "cell_type": "code",
   "execution_count": 0,
   "metadata": {
    "collapsed": false
   },
   "outputs": [],
   "source": [
    "t = Table.read('data.csv', format='ascii.csv')\n",
    "print(t)"
   ]
  },
  {
   "cell_type": "markdown",
   "metadata": {},
   "source": [
    "**Note** the full covariance matrix for each data point is: \n",
    "$\\left[ \\begin{array}{ccc} \\sigma_x^2 & \\rho_{xy}\\sigma_x \\sigma_y \\\\ \\rho_{xy}\\sigma_x \\sigma_y & \\sigma_y^2 \\end{array} \\right]$\n",
    "\n",
    "## y-uncertanties or x-uncertanties only\n",
    "The most common type of data you will work with will only have (significant) uncertainties in one direction.  In this case it is very easy to plot using `errorbar`:"
   ]
  },
  {
   "cell_type": "code",
   "execution_count": 0,
   "metadata": {
    "collapsed": false
   },
   "outputs": [],
   "source": [
    "plt.figure(1)\n",
    "plt.errorbar(t['x'], t['y'], yerr=t['sy'], ls='None', mfc='k', ms=5, marker='s', ecolor='k')\n",
    "plt.xlabel('x')\n",
    "plt.ylabel('y')\n",
    "plt.ylim(0, 700)"
   ]
  },
  {
   "cell_type": "code",
   "execution_count": 0,
   "metadata": {
    "collapsed": false
   },
   "outputs": [],
   "source": [
    "plt.figure(2)\n",
    "plt.errorbar(t['x'], t['y'], xerr=t['sx'], ls='None', mfc='k', ms=5, marker='s', ecolor='k')\n",
    "plt.xlabel('x')\n",
    "plt.ylabel('y')\n",
    "plt.ylim(0, 700)"
   ]
  },
  {
   "cell_type": "markdown",
   "metadata": {},
   "source": [
    "## Uncertainties in both x and y with no cov\n",
    "If your data has no cov you can still use `errorbar`:"
   ]
  },
  {
   "cell_type": "code",
   "execution_count": 0,
   "metadata": {
    "collapsed": false
   },
   "outputs": [],
   "source": [
    "plt.figure(3)\n",
    "plt.errorbar(t['x'], t['y'], yerr=t['sy'], xerr=t['sx'], ls='None', mfc='k', ms=5, marker='s', ecolor='k')\n",
    "plt.xlabel('x')\n",
    "plt.ylabel('y')\n",
    "plt.ylim(0, 700)"
   ]
  },
  {
   "cell_type": "markdown",
   "metadata": {},
   "source": [
    "## Uncertainties in boty x and y with cov\n",
    "If your data does have cov you should plot a 1-$\\sigma$ ellipse around each point.  There is no built in function to do this, so we will have to write our own.  We will start by writing a function to turn a cov matrix into the parameters for an ellipse and draw it on a figure."
   ]
  },
  {
   "cell_type": "code",
   "execution_count": 0,
   "metadata": {
    "collapsed": false
   },
   "outputs": [],
   "source": [
    "def cov_to_ellipse(cov, pos, **kwargs):\n",
    "    eigvec,eigval,V=sl.svd(cov,full_matrices=False)\n",
    "    # the angle the first eigenvector makes with the x-axis\n",
    "    theta = np.degrees(np.arctan2(eigvec[1, 0], eigvec[0, 0]))\n",
    "    # full width and height of ellipse, not radius\n",
    "    # the eigenvalues are the variance along the eigenvectors\n",
    "    width, height = 2 * np.sqrt(eigval)\n",
    "    return Ellipse(xy=pos, width=width, height=height, angle=theta, **kwargs)\n",
    "\n",
    "def plot_ellipse(t, ax=None, **kwargs):\n",
    "    if ax is None:\n",
    "        ax = plt.gca()\n",
    "    for row in t:\n",
    "        cov = np.array([[row['sx']**2, row['pxy'] * row['sx'] * row['sy']], [row['pxy'] * row['sx'] * row['sy'], row['sy']**2]])\n",
    "        ellip = cov_to_ellipse(cov, [row['x'], row['y']], **kwargs)\n",
    "        ax.add_artist(ellip)\n",
    "        \n",
    "plt.figure(4)\n",
    "plt.plot(t['x'], t['y'], 's', mfc='k', ms=5)\n",
    "plot_ellipse(t, fc='none', lw=1.5)\n",
    "plt.xlabel('x')\n",
    "plt.ylabel('y')\n",
    "plt.ylim(0, 700)\n",
    "plt.draw()"
   ]
  },
  {
   "cell_type": "code",
   "execution_count": 0,
   "metadata": {
    "collapsed": true
   },
   "outputs": [],
   "source": []
  }
 ],
 "metadata": {
  "kernelspec": {
   "display_name": "Python 3",
   "language": "python",
   "name": "python3"
  },
  "language_info": {
   "codemirror_mode": {
    "name": "ipython",
    "version": 3
   },
   "file_extension": ".py",
   "mimetype": "text/x-python",
   "name": "python",
   "nbconvert_exporter": "python",
   "pygments_lexer": "ipython3",
   "version": "3.5.2"
  }
 },
 "nbformat": 4,
 "nbformat_minor": 0
}